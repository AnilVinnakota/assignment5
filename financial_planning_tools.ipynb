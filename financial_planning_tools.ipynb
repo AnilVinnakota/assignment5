{
 "cells": [
  {
   "cell_type": "markdown",
   "metadata": {},
   "source": [
    "# Financial Planning with APIs and Simulations\n",
    "\n",
    "In this Challenge, you’ll create two financial analysis tools by using a single Jupyter notebook:\n",
    "\n",
    "Part 1: A financial planner for emergencies. The members will be able to use this tool to visualize their current savings. The members can then determine if they have enough reserves for an emergency fund.\n",
    "\n",
    "Part 2: A financial planner for retirement. This tool will forecast the performance of their retirement portfolio in 30 years. To do this, the tool will make an Alpaca API call via the Alpaca SDK to get historical price data for use in Monte Carlo simulations.\n",
    "\n",
    "You’ll use the information from the Monte Carlo simulation to answer questions about the portfolio in your Jupyter notebook.\n",
    "\n"
   ]
  },
  {
   "cell_type": "code",
   "execution_count": 1,
   "metadata": {},
   "outputs": [],
   "source": [
    "# Import the required libraries and dependencies\n",
    "import os\n",
    "import requests\n",
    "import json\n",
    "import pandas as pd\n",
    "from dotenv import load_dotenv\n",
    "import alpaca_trade_api as tradeapi\n",
    "from MCForecastTools import MCSimulation\n",
    "\n",
    "%matplotlib inline"
   ]
  },
  {
   "cell_type": "code",
   "execution_count": 2,
   "metadata": {},
   "outputs": [
    {
     "data": {
      "text/plain": [
       "True"
      ]
     },
     "execution_count": 2,
     "metadata": {},
     "output_type": "execute_result"
    }
   ],
   "source": [
    "# Load the environment variables from the .env file\n",
    "#by calling the load_dotenv function\n",
    "load_dotenv('../../.env')"
   ]
  },
  {
   "cell_type": "markdown",
   "metadata": {},
   "source": [
    "## Part 1: Create a Financial Planner for Emergencies"
   ]
  },
  {
   "cell_type": "markdown",
   "metadata": {},
   "source": [
    "### Evaluate the Cryptocurrency Wallet by Using the Requests Library\n",
    "\n",
    "In this section, you’ll determine the current value of a member’s cryptocurrency wallet. You’ll collect the current prices for the Bitcoin and Ethereum cryptocurrencies by using the Python Requests library. For the prototype, you’ll assume that the member holds the 1.2 Bitcoins (BTC) and 5.3 Ethereum coins (ETH). To do all this, complete the following steps:\n",
    "\n",
    "1. Create a variable named `monthly_income`, and set its value to `12000`.\n",
    "\n",
    "2. Use the Requests library to get the current price (in US dollars) of Bitcoin (BTC) and Ethereum (ETH) by using the API endpoints that the starter code supplies.\n",
    "\n",
    "3. Navigate the JSON response object to access the current price of each coin, and store each in a variable.\n",
    "\n",
    "    > **Hint** Note the specific identifier for each cryptocurrency in the API JSON response. The Bitcoin identifier is `1`, and the Ethereum identifier is `1027`.\n",
    "\n",
    "4. Calculate the value, in US dollars, of the current amount of each cryptocurrency and of the entire cryptocurrency wallet.\n",
    "\n"
   ]
  },
  {
   "cell_type": "code",
   "execution_count": 3,
   "metadata": {},
   "outputs": [],
   "source": [
    "# The current number of coins for each cryptocurrency asset held in the portfolio.\n",
    "btc_coins = 1.2\n",
    "eth_coins = 5.3"
   ]
  },
  {
   "cell_type": "markdown",
   "metadata": {},
   "source": [
    "#### Step 1: Create a variable named `monthly_income`, and set its value to `12000`."
   ]
  },
  {
   "cell_type": "code",
   "execution_count": 4,
   "metadata": {},
   "outputs": [],
   "source": [
    "# The monthly amount for the member's household income\n",
    "# YOUR CODE HERE\n",
    "monthly_income = 12000"
   ]
  },
  {
   "cell_type": "markdown",
   "metadata": {},
   "source": [
    "#### Review the endpoint URLs for the API calls to Free Crypto API in order to get the current pricing information for both BTC and ETH."
   ]
  },
  {
   "cell_type": "code",
   "execution_count": 5,
   "metadata": {},
   "outputs": [],
   "source": [
    "# The Free Crypto API Call endpoint URLs for the held cryptocurrency assets\n",
    "btc_url = \"https://api.alternative.me/v2/ticker/Bitcoin/?convert=USD\"\n",
    "eth_url = \"https://api.alternative.me/v2/ticker/Ethereum/?convert=USD\""
   ]
  },
  {
   "cell_type": "markdown",
   "metadata": {},
   "source": [
    "#### Step 2. Use the Requests library to get the current price (in US dollars) of Bitcoin (BTC) and Ethereum (ETH) by using the API endpoints that the starter code supplied."
   ]
  },
  {
   "cell_type": "code",
   "execution_count": 9,
   "metadata": {},
   "outputs": [
    {
     "name": "stdout",
     "output_type": "stream",
     "text": [
      "{\n",
      "    \"data\": {\n",
      "        \"1\": {\n",
      "            \"circulating_supply\": 18880012,\n",
      "            \"id\": 1,\n",
      "            \"last_updated\": 1637562864,\n",
      "            \"max_supply\": 21000000,\n",
      "            \"name\": \"Bitcoin\",\n",
      "            \"quotes\": {\n",
      "                \"USD\": {\n",
      "                    \"market_cap\": 1083322853328,\n",
      "                    \"percent_change_1h\": -0.0343454957395007,\n",
      "                    \"percent_change_24h\": -3.24656703313539,\n",
      "                    \"percent_change_7d\": -12.7265145824711,\n",
      "                    \"percentage_change_1h\": -0.0343454957395007,\n",
      "                    \"percentage_change_24h\": -3.24656703313539,\n",
      "                    \"percentage_change_7d\": -12.7265145824711,\n",
      "                    \"price\": 57294.0,\n",
      "                    \"volume_24h\": 28858905414\n",
      "                }\n",
      "            },\n",
      "            \"rank\": 1,\n",
      "            \"symbol\": \"BTC\",\n",
      "            \"total_supply\": 18880012,\n",
      "            \"website_slug\": \"bitcoin\"\n",
      "        }\n",
      "    },\n",
      "    \"metadata\": {\n",
      "        \"error\": null,\n",
      "        \"num_cryptocurrencies\": 3105,\n",
      "        \"timestamp\": 1637562864\n",
      "    }\n",
      "}\n"
     ]
    }
   ],
   "source": [
    "# Using the Python requests library, make an API call to access the current price of BTC\n",
    "btc_response = requests.get(btc_url).json()\n",
    "\n",
    "\n",
    "# Use the json.dumps function to review the response data from the API call\n",
    "# Use the indent and sort_keys parameters to make the response object readable\n",
    "# YOUR CODE HERE\n",
    "print(json.dumps(btc_response, indent=4, sort_keys=True))"
   ]
  },
  {
   "cell_type": "code",
   "execution_count": 10,
   "metadata": {},
   "outputs": [
    {
     "name": "stdout",
     "output_type": "stream",
     "text": [
      "{\n",
      "    \"data\": {\n",
      "        \"1027\": {\n",
      "            \"circulating_supply\": 118440410,\n",
      "            \"id\": 1027,\n",
      "            \"last_updated\": 1637562876,\n",
      "            \"max_supply\": 0,\n",
      "            \"name\": \"Ethereum\",\n",
      "            \"quotes\": {\n",
      "                \"USD\": {\n",
      "                    \"market_cap\": 496288289710,\n",
      "                    \"percent_change_1h\": 0.0172265328155298,\n",
      "                    \"percent_change_24h\": -4.67866563179799,\n",
      "                    \"percent_change_7d\": -10.1911021877163,\n",
      "                    \"percentage_change_1h\": 0.0172265328155298,\n",
      "                    \"percentage_change_24h\": -4.67866563179799,\n",
      "                    \"percentage_change_7d\": -10.1911021877163,\n",
      "                    \"price\": 4178.76,\n",
      "                    \"volume_24h\": 17489446930\n",
      "                }\n",
      "            },\n",
      "            \"rank\": 2,\n",
      "            \"symbol\": \"ETH\",\n",
      "            \"total_supply\": 118440410,\n",
      "            \"website_slug\": \"ethereum\"\n",
      "        }\n",
      "    },\n",
      "    \"metadata\": {\n",
      "        \"error\": null,\n",
      "        \"num_cryptocurrencies\": 3105,\n",
      "        \"timestamp\": 1637562876\n",
      "    }\n",
      "}\n"
     ]
    }
   ],
   "source": [
    "# Using the Python requests library, make an API call to access the current price ETH\n",
    "eth_response = requests.get(eth_url).json()\n",
    "\n",
    "# Use the json.dumps function to review the response data from the API call\n",
    "# Use the indent and sort_keys parameters to make the response object readable\n",
    "# YOUR CODE HERE\n",
    "print(json.dumps(eth_response, indent=4, sort_keys=True))"
   ]
  },
  {
   "cell_type": "markdown",
   "metadata": {},
   "source": [
    "#### Step 3: Navigate the JSON response object to access the current price of each coin, and store each in a variable."
   ]
  },
  {
   "cell_type": "code",
   "execution_count": 11,
   "metadata": {},
   "outputs": [
    {
     "name": "stdout",
     "output_type": "stream",
     "text": [
      "57294.0\n"
     ]
    }
   ],
   "source": [
    "# Navigate the BTC response object to access the current price of BTC\n",
    "btc_price = btc_response['data']['1']['quotes']['USD']['price']\n",
    "\n",
    "# Print the current price of BTC\n",
    "# YOUR CODE HERE\n",
    "print(btc_price)"
   ]
  },
  {
   "cell_type": "code",
   "execution_count": 12,
   "metadata": {},
   "outputs": [
    {
     "name": "stdout",
     "output_type": "stream",
     "text": [
      "4178.76\n"
     ]
    }
   ],
   "source": [
    "# Navigate the BTC response object to access the current price of ETH\n",
    "eth_price = eth_response['data']['1027']['quotes']['USD']['price']\n",
    "\n",
    "# Print the current price of ETH\n",
    "# YOUR CODE HERE\n",
    "print(eth_price)"
   ]
  },
  {
   "cell_type": "markdown",
   "metadata": {},
   "source": [
    "### Step 4: Calculate the value, in US dollars, of the current amount of each cryptocurrency and of the entire cryptocurrency wallet."
   ]
  },
  {
   "cell_type": "code",
   "execution_count": 27,
   "metadata": {},
   "outputs": [
    {
     "name": "stdout",
     "output_type": "stream",
     "text": [
      "68752.8\n"
     ]
    }
   ],
   "source": [
    "# Compute the current value of the BTC holding \n",
    "btc_value = btc_coins * btc_price\n",
    "\n",
    "# Print current value of your holding in BTC\n",
    "# YOUR CODE HERE\n",
    "print(btc_value)"
   ]
  },
  {
   "cell_type": "code",
   "execution_count": 28,
   "metadata": {},
   "outputs": [
    {
     "name": "stdout",
     "output_type": "stream",
     "text": [
      "22147.428\n"
     ]
    }
   ],
   "source": [
    "# Compute the current value of the ETH holding \n",
    "eth_value =  eth_coins * eth_price\n",
    "\n",
    "# Print current value of your holding in ETH\n",
    "# YOUR CODE HERE\n",
    "print(eth_value)"
   ]
  },
  {
   "cell_type": "code",
   "execution_count": 29,
   "metadata": {},
   "outputs": [
    {
     "name": "stdout",
     "output_type": "stream",
     "text": [
      "90900.228\n"
     ]
    }
   ],
   "source": [
    "# Compute the total value of the cryptocurrency wallet\n",
    "# Add the value of the BTC holding to the value of the ETH holding\n",
    "total_crypto_wallet = eth_value + btc_value\n",
    "\n",
    "# Print current cryptocurrency wallet balance\n",
    "# YOUR CODE HERE\n",
    "print(total_crypto_wallet)"
   ]
  },
  {
   "cell_type": "markdown",
   "metadata": {},
   "source": [
    "### Evaluate the Stock and Bond Holdings by Using the Alpaca SDK\n",
    "\n",
    "In this section, you’ll determine the current value of a member’s stock and bond holdings. You’ll make an API call to Alpaca via the Alpaca SDK to get the current closing prices of the SPDR S&P 500 ETF Trust (ticker: SPY) and of the iShares Core US Aggregate Bond ETF (ticker: AGG). For the prototype, assume that the member holds 110 shares of SPY, which represents the stock portion of their portfolio, and 200 shares of AGG, which represents the bond portion. To do all this, complete the following steps:\n",
    "\n",
    "1. In the `Starter_Code` folder, create an environment file (`.env`) to store the values of your Alpaca API key and Alpaca secret key.\n",
    "\n",
    "2. Set the variables for the Alpaca API and secret keys. Using the Alpaca SDK, create the Alpaca `tradeapi.REST` object. In this object, include the parameters for the Alpaca API key, the secret key, and the version number.\n",
    "\n",
    "3. Set the following parameters for the Alpaca API call:\n",
    "\n",
    "    - `tickers`: Use the tickers for the member’s stock and bond holdings.\n",
    "\n",
    "    - `timeframe`: Use a time frame of one day.\n",
    "\n",
    "    - `start_date` and `end_date`: Use the same date for these parameters, and format them with the date of the previous weekday (or `2020-08-07`). This is because you want the one closing price for the most-recent trading day.\n",
    "\n",
    "4. Get the current closing prices for `SPY` and `AGG` by using the Alpaca `get_barset` function. Format the response as a Pandas DataFrame by including the `df` property at the end of the `get_barset` function.\n",
    "\n",
    "5. Navigating the Alpaca response DataFrame, select the `SPY` and `AGG` closing prices, and store them as variables.\n",
    "\n",
    "6. Calculate the value, in US dollars, of the current amount of shares in each of the stock and bond portions of the portfolio, and print the results.\n"
   ]
  },
  {
   "cell_type": "markdown",
   "metadata": {},
   "source": [
    "#### Review the total number of shares held in both (SPY) and (AGG)."
   ]
  },
  {
   "cell_type": "code",
   "execution_count": 16,
   "metadata": {},
   "outputs": [],
   "source": [
    "# Current amount of shares held in both the stock (SPY) and bond (AGG) portion of the portfolio.\n",
    "spy_shares = 110\n",
    "agg_shares = 200\n"
   ]
  },
  {
   "cell_type": "markdown",
   "metadata": {},
   "source": [
    "#### Step 1: In the `Starter_Code` folder, create an environment file (`.env`) to store the values of your Alpaca API key and Alpaca secret key."
   ]
  },
  {
   "cell_type": "markdown",
   "metadata": {},
   "source": [
    "#### Step 2: Set the variables for the Alpaca API and secret keys. Using the Alpaca SDK, create the Alpaca `tradeapi.REST` object. In this object, include the parameters for the Alpaca API key, the secret key, and the version number."
   ]
  },
  {
   "cell_type": "code",
   "execution_count": 17,
   "metadata": {},
   "outputs": [],
   "source": [
    "alpaca_api_key = os.getenv(\"APCA_API_KEY_ID\")\n",
    "alpaca_secret_key = os.getenv(\"APCA_API_SECRET_KEY\")\n",
    "alpaca = tradeapi.REST(\n",
    "    alpaca_api_key,\n",
    "    alpaca_secret_key,\n",
    "    api_version=\"v2\")\n"
   ]
  },
  {
   "cell_type": "markdown",
   "metadata": {},
   "source": [
    "#### Step 3: Set the following parameters for the Alpaca API call:\n",
    "\n",
    "- `tickers`: Use the tickers for the member’s stock and bond holdings.\n",
    "\n",
    "- `timeframe`: Use a time frame of one day.\n",
    "\n",
    "- `start_date` and `end_date`: Use the same date for these parameters, and format them with the date of the previous weekday (or `2020-08-07`). This is because you want the one closing price for the most-recent trading day.\n"
   ]
  },
  {
   "cell_type": "code",
   "execution_count": 18,
   "metadata": {},
   "outputs": [],
   "source": [
    "# Set the tickers for both the bond and stock portion of the portfolio\n",
    "tickers = [\"SPY\",\"AGG\"]\n",
    "\n",
    "# Set timeframe to 1D \n",
    "timeframe = \"1D\"\n",
    "\n",
    "# Format current date as ISO format\n",
    "# Set both the start and end date at the date of your prior weekday \n",
    "# This will give you the closing price of the previous trading day\n",
    "# Alternatively you can use a start and end date of 2020-08-07\n",
    "start_date = pd.Timestamp(\"2020-08-07\", tz=\"America/New_York\").isoformat()\n",
    "end_date = pd.Timestamp(\"2020-08-07\", tz=\"America/New_York\").isoformat()\n",
    "\n"
   ]
  },
  {
   "cell_type": "markdown",
   "metadata": {},
   "source": [
    "#### Step 4: Get the current closing prices for `SPY` and `AGG` by using the Alpaca `get_barset` function. Format the response as a Pandas DataFrame by including the `df` property at the end of the `get_barset` function."
   ]
  },
  {
   "cell_type": "code",
   "execution_count": 20,
   "metadata": {},
   "outputs": [
    {
     "data": {
      "text/html": [
       "<div>\n",
       "<style scoped>\n",
       "    .dataframe tbody tr th:only-of-type {\n",
       "        vertical-align: middle;\n",
       "    }\n",
       "\n",
       "    .dataframe tbody tr th {\n",
       "        vertical-align: top;\n",
       "    }\n",
       "\n",
       "    .dataframe thead tr th {\n",
       "        text-align: left;\n",
       "    }\n",
       "</style>\n",
       "<table border=\"1\" class=\"dataframe\">\n",
       "  <thead>\n",
       "    <tr>\n",
       "      <th></th>\n",
       "      <th colspan=\"5\" halign=\"left\">AGG</th>\n",
       "      <th colspan=\"5\" halign=\"left\">SPY</th>\n",
       "    </tr>\n",
       "    <tr>\n",
       "      <th></th>\n",
       "      <th>open</th>\n",
       "      <th>high</th>\n",
       "      <th>low</th>\n",
       "      <th>close</th>\n",
       "      <th>volume</th>\n",
       "      <th>open</th>\n",
       "      <th>high</th>\n",
       "      <th>low</th>\n",
       "      <th>close</th>\n",
       "      <th>volume</th>\n",
       "    </tr>\n",
       "  </thead>\n",
       "  <tbody>\n",
       "    <tr>\n",
       "      <th>2020-08-07 00:00:00-04:00</th>\n",
       "      <td>119.66</td>\n",
       "      <td>119.73</td>\n",
       "      <td>119.395</td>\n",
       "      <td>119.445</td>\n",
       "      <td>8830420</td>\n",
       "      <td>333.28</td>\n",
       "      <td>334.88</td>\n",
       "      <td>332.3</td>\n",
       "      <td>334.55</td>\n",
       "      <td>98710236</td>\n",
       "    </tr>\n",
       "  </tbody>\n",
       "</table>\n",
       "</div>"
      ],
      "text/plain": [
       "                              AGG                                        SPY  \\\n",
       "                             open    high      low    close   volume    open   \n",
       "2020-08-07 00:00:00-04:00  119.66  119.73  119.395  119.445  8830420  333.28   \n",
       "\n",
       "                                                            \n",
       "                             high    low   close    volume  \n",
       "2020-08-07 00:00:00-04:00  334.88  332.3  334.55  98710236  "
      ]
     },
     "execution_count": 20,
     "metadata": {},
     "output_type": "execute_result"
    }
   ],
   "source": [
    "# Use the Alpaca get_barset function to get current closing prices the portfolio\n",
    "# Be sure to set the `df` property after the function to format the response object as a DataFrame\n",
    "limit_rows = 10\n",
    "prices_df = alpaca.get_barset(\n",
    "  tickers,\n",
    "  timeframe,\n",
    "  start=start_date,\n",
    "  end=end_date,\n",
    "  limit=limit_rows\n",
    ").df\n",
    "\n",
    "# Review the first 5 rows of the Alpaca DataFrame\n",
    "prices_df.head()"
   ]
  },
  {
   "cell_type": "markdown",
   "metadata": {},
   "source": [
    "#### Step 5: Navigating the Alpaca response DataFrame, select the `SPY` and `AGG` closing prices, and store them as variables."
   ]
  },
  {
   "cell_type": "code",
   "execution_count": 40,
   "metadata": {},
   "outputs": [
    {
     "name": "stdout",
     "output_type": "stream",
     "text": [
      "119.445\n"
     ]
    }
   ],
   "source": [
    "# Access the closing price for AGG from the Alpaca DataFrame\n",
    "# Converting the value to a floating point number\n",
    "agg_close_price = prices_df['AGG']['close'][0]\n",
    "\n",
    "# Print the AGG closing price\n",
    "print(agg_close_price)"
   ]
  },
  {
   "cell_type": "code",
   "execution_count": 39,
   "metadata": {},
   "outputs": [
    {
     "name": "stdout",
     "output_type": "stream",
     "text": [
      "334.55\n"
     ]
    }
   ],
   "source": [
    "# Access the closing price for SPY from the Alpaca DataFrame\n",
    "# Converting the value to a floating point number\n",
    "spy_close_price = prices_df['SPY']['close'][0]\n",
    "\n",
    "# Print the SPY closing price\n",
    "print(spy_close_price)"
   ]
  },
  {
   "cell_type": "markdown",
   "metadata": {},
   "source": [
    "#### Step 6: Calculate the value, in US dollars, of the current amount of shares in each of the stock and bond portions of the portfolio, and print the results."
   ]
  },
  {
   "cell_type": "code",
   "execution_count": 41,
   "metadata": {},
   "outputs": [
    {
     "name": "stdout",
     "output_type": "stream",
     "text": [
      "23889.0\n"
     ]
    }
   ],
   "source": [
    "# Calculate the current value of the bond portion of the portfolio\n",
    "agg_value = agg_close_price * agg_shares\n",
    "\n",
    "# Print the current value of the bond portfolio\n",
    "print(agg_value)"
   ]
  },
  {
   "cell_type": "code",
   "execution_count": 42,
   "metadata": {},
   "outputs": [
    {
     "name": "stdout",
     "output_type": "stream",
     "text": [
      "36800.5\n"
     ]
    }
   ],
   "source": [
    "# Calculate the current value of the stock portion of the portfolio\n",
    "spy_value = spy_close_price * spy_shares\n",
    "\n",
    "# Print the current value of the stock portfolio\n",
    "print(spy_value)"
   ]
  },
  {
   "cell_type": "code",
   "execution_count": 43,
   "metadata": {},
   "outputs": [
    {
     "name": "stdout",
     "output_type": "stream",
     "text": [
      "60689.5\n"
     ]
    }
   ],
   "source": [
    "# Calculate the total value of the stock and bond portion of the portfolio\n",
    "total_stocks_bonds = spy_value + agg_value\n",
    "\n",
    "# Print the current balance of the stock and bond portion of the portfolio\n",
    "print(total_stocks_bonds)"
   ]
  },
  {
   "cell_type": "code",
   "execution_count": 58,
   "metadata": {},
   "outputs": [
    {
     "name": "stdout",
     "output_type": "stream",
     "text": [
      "151589.728\n"
     ]
    }
   ],
   "source": [
    "# Calculate the total value of the member's entire savings portfolio\n",
    "# Add the value of the cryptocurrency walled to the value of the total stocks and bonds\n",
    "total_portfolio = total_stocks_bonds + total_crypto_wallet\n",
    "\n",
    "# Print current cryptocurrency wallet balance\n",
    "print(total_portfolio)"
   ]
  },
  {
   "cell_type": "markdown",
   "metadata": {},
   "source": [
    "### Evaluate the Emergency Fund\n",
    "\n",
    "In this section, you’ll use the valuations for the cryptocurrency wallet and for the stock and bond portions of the portfolio to determine if the credit union member has enough savings to build an emergency fund into their financial plan. To do this, complete the following steps:\n",
    "\n",
    "1. Create a Python list named `savings_data` that has two elements. The first element contains the total value of the cryptocurrency wallet. The second element contains the total value of the stock and bond portions of the portfolio.\n",
    "\n",
    "2. Use the `savings_data` list to create a Pandas DataFrame named `savings_df`, and then display this DataFrame. The function to create the DataFrame should take the following three parameters:\n",
    "\n",
    "    - `savings_data`: Use the list that you just created.\n",
    "\n",
    "    - `columns`: Set this parameter equal to a Python list with a single value called `amount`.\n",
    "\n",
    "    - `index`: Set this parameter equal to a Python list with the values of `crypto` and `stock/bond`.\n",
    "\n",
    "3. Use the `savings_df` DataFrame to plot a pie chart that visualizes the composition of the member’s portfolio. The y-axis of the pie chart uses `amount`. Be sure to add a title.\n",
    "\n",
    "4. Using Python, determine if the current portfolio has enough to create an emergency fund as part of the member’s financial plan. Ideally, an emergency fund should equal to three times the member’s monthly income. To do this, implement the following steps:\n",
    "\n",
    "    1. Create a variable named `emergency_fund_value`, and set it equal to three times the value of the member’s `monthly_income` of $12000. (You set this earlier in Part 1).\n",
    "\n",
    "    2. Create a series of three if statements to determine if the member’s total portfolio is large enough to fund the emergency portfolio:\n",
    "\n",
    "        1. If the total portfolio value is greater than the emergency fund value, display a message congratulating the member for having enough money in this fund.\n",
    "\n",
    "        2. Else if the total portfolio value is equal to the emergency fund value, display a message congratulating the member on reaching this important financial goal.\n",
    "\n",
    "        3. Else the total portfolio is less than the emergency fund value, so display a message showing how many dollars away the member is from reaching the goal. (Subtract the total portfolio value from the emergency fund value.)\n"
   ]
  },
  {
   "cell_type": "markdown",
   "metadata": {},
   "source": [
    "#### Step 1: Create a Python list named `savings_data` that has two elements. The first element contains the total value of the cryptocurrency wallet. The second element contains the total value of the stock and bond portions of the portfolio."
   ]
  },
  {
   "cell_type": "code",
   "execution_count": 44,
   "metadata": {},
   "outputs": [
    {
     "name": "stdout",
     "output_type": "stream",
     "text": [
      "[90900.228, 60689.5]\n"
     ]
    }
   ],
   "source": [
    "# Consolidate financial assets data into a Python list\n",
    "savings_data = [total_crypto_wallet, total_stocks_bonds]\n",
    "# Review the Python list savings_data\n",
    "print(savings_data)"
   ]
  },
  {
   "cell_type": "markdown",
   "metadata": {},
   "source": [
    "#### Step 2: Use the `savings_data` list to create a Pandas DataFrame named `savings_df`, and then display this DataFrame. The function to create the DataFrame should take the following three parameters:\n",
    "\n",
    "- `savings_data`: Use the list that you just created.\n",
    "\n",
    "- `columns`: Set this parameter equal to a Python list with a single value called `amount`.\n",
    "\n",
    "- `index`: Set this parameter equal to a Python list with the values of `crypto` and `stock/bond`.\n"
   ]
  },
  {
   "cell_type": "code",
   "execution_count": 50,
   "metadata": {},
   "outputs": [
    {
     "name": "stdout",
     "output_type": "stream",
     "text": [
      "               amount\n",
      "crypto      90900.228\n",
      "stock/bond  60689.500\n"
     ]
    }
   ],
   "source": [
    "# Create a Pandas DataFrame called savings_df \n",
    "savings_df = pd.DataFrame({'amount' : savings_data}, index=['crypto', 'stock/bond'])\n",
    "# Display the savings_df DataFrame\n",
    "# YOUR CODE HERE\n",
    "print(savings_df)"
   ]
  },
  {
   "cell_type": "markdown",
   "metadata": {},
   "source": [
    "#### Step 3: Use the `savings_df` DataFrame to plot a pie chart that visualizes the composition of the member’s portfolio. The y-axis of the pie chart uses `amount`. Be sure to add a title."
   ]
  },
  {
   "cell_type": "code",
   "execution_count": 53,
   "metadata": {},
   "outputs": [
    {
     "data": {
      "text/plain": [
       "<AxesSubplot:title={'center':'Portfolio Composition'}, ylabel='amount'>"
      ]
     },
     "execution_count": 53,
     "metadata": {},
     "output_type": "execute_result"
    },
    {
     "data": {
      "image/png": "[encoded data removed]",
      "text/plain": [
       "<Figure size 432x288 with 1 Axes>"
      ]
     },
     "metadata": {},
     "output_type": "display_data"
    }
   ],
   "source": [
    "# Plot the total value of the member's portfolio (crypto and stock/bond) in a pie chart\n",
    "# YOUR CODE HERE\n",
    "savings_df.plot.pie(y='amount', title='Portfolio Composition')"
   ]
  },
  {
   "cell_type": "markdown",
   "metadata": {},
   "source": [
    "#### Step 4: Using Python, determine if the current portfolio has enough to create an emergency fund as part of the member’s financial plan. Ideally, an emergency fund should equal to three times the member’s monthly income. To do this, implement the following steps:\n",
    "\n",
    "Step 1. Create a variable named `emergency_fund_value`, and set it equal to three times the value of the member’s `monthly_income` of 12000. (You set this earlier in Part 1).\n",
    "\n",
    "Step 2. Create a series of three if statements to determine if the member’s total portfolio is large enough to fund the emergency portfolio:\n",
    "\n",
    "* If the total portfolio value is greater than the emergency fund value, display a message congratulating the member for having enough money in this fund.\n",
    "\n",
    "* Else if the total portfolio value is equal to the emergency fund value, display a message congratulating the member on reaching this important financial goal.\n",
    "\n",
    "* Else the total portfolio is less than the emergency fund value, so display a message showing how many dollars away the member is from reaching the goal. (Subtract the total portfolio value from the emergency fund value.)\n"
   ]
  },
  {
   "cell_type": "markdown",
   "metadata": {},
   "source": [
    "##### Step 4-1: Create a variable named `emergency_fund_value`, and set it equal to three times the value of the member’s `monthly_income` of 12000. (You set this earlier in Part 1)."
   ]
  },
  {
   "cell_type": "code",
   "execution_count": 54,
   "metadata": {},
   "outputs": [],
   "source": [
    "# Create a variable named emergency_fund_value\n",
    "emergency_fund_value = 2 * monthly_income"
   ]
  },
  {
   "cell_type": "markdown",
   "metadata": {},
   "source": [
    "##### Step 4-2: Create a series of three if statements to determine if the member’s total portfolio is large enough to fund the emergency portfolio:\n",
    "\n",
    "* If the total portfolio value is greater than the emergency fund value, display a message congratulating the member for having enough money in this fund.\n",
    "\n",
    "* Else if the total portfolio value is equal to the emergency fund value, display a message congratulating the member on reaching this important financial goal.\n",
    "\n",
    "* Else the total portfolio is less than the emergency fund value, so display a message showing how many dollars away the member is from reaching the goal. (Subtract the total portfolio value from the emergency fund value.)"
   ]
  },
  {
   "cell_type": "code",
   "execution_count": 59,
   "metadata": {},
   "outputs": [
    {
     "name": "stdout",
     "output_type": "stream",
     "text": [
      "Congratulations! you have enough money\n"
     ]
    }
   ],
   "source": [
    "# Evaluate the possibility of creating an emergency fund with 3 conditions:\n",
    "if (total_portfolio > emergency_fund_value):\n",
    "    print(\"Congratulations! you have enough money\")\n",
    "elif (total_portfolio == emergency_fund_value):\n",
    "    print(\"Congratulations! you reached important financial goal\")\n",
    "else:\n",
    "    short_amount = emergency_fund_value - total_portfolio\n",
    "    print(\"You need {} to reach the financial goal\".format(short_amount) )"
   ]
  },
  {
   "cell_type": "markdown",
   "metadata": {},
   "source": [
    "## Part 2: Create a Financial Planner for Retirement"
   ]
  },
  {
   "cell_type": "markdown",
   "metadata": {},
   "source": [
    "### Create the Monte Carlo Simulation\n",
    "\n",
    "In this section, you’ll use the MCForecastTools library to create a Monte Carlo simulation for the member’s savings portfolio. To do this, complete the following steps:\n",
    "\n",
    "1. Make an API call via the Alpaca SDK to get 3 years of historical closing prices for a traditional 60/40 portfolio split: 60% stocks (SPY) and 40% bonds (AGG).\n",
    "\n",
    "2. Run a Monte Carlo simulation of 500 samples and 30 years for the 60/40 portfolio, and then plot the results.The following image shows the overlay line plot resulting from a simulation with these characteristics. However, because a random number generator is used to run each live Monte Carlo simulation, your image will differ slightly from this exact image:\n",
    "\n",
    "![A screenshot depicts the resulting plot.](Images/5-4-monte-carlo-line-plot.png)\n",
    "\n",
    "3. Plot the probability distribution of the Monte Carlo simulation. Plot the probability distribution of the Monte Carlo simulation. The following image shows the histogram plot resulting from a simulation with these characteristics. However, because a random number generator is used to run each live Monte Carlo simulation, your image will differ slightly from this exact image:\n",
    "\n",
    "![A screenshot depicts the histogram plot.](Images/5-4-monte-carlo-histogram.png)\n",
    "\n",
    "4. Generate the summary statistics for the Monte Carlo simulation.\n",
    "\n"
   ]
  },
  {
   "cell_type": "markdown",
   "metadata": {},
   "source": [
    "#### Step 1: Make an API call via the Alpaca SDK to get 3 years of historical closing prices for a traditional 60/40 portfolio split: 60% stocks (SPY) and 40% bonds (AGG)."
   ]
  },
  {
   "cell_type": "code",
   "execution_count": 60,
   "metadata": {},
   "outputs": [],
   "source": [
    "# Set start and end dates of 3 years back from your current date\n",
    "# Alternatively, you can use an end date of 2020-08-07 and work 3 years back from that date \n",
    "start_date = pd.Timestamp(\"2017-06-30\", tz=\"America/New_York\").isoformat()\n",
    "end_date = pd.Timestamp(\"2020-06-30\", tz=\"America/New_York\").isoformat()\n",
    "\n",
    "# Set number of rows to 1000 to retrieve the maximum amount of rows\n",
    "limit_rows = 1000"
   ]
  },
  {
   "cell_type": "code",
   "execution_count": 63,
   "metadata": {},
   "outputs": [
    {
     "data": {
      "text/html": [
       "<div>\n",
       "<style scoped>\n",
       "    .dataframe tbody tr th:only-of-type {\n",
       "        vertical-align: middle;\n",
       "    }\n",
       "\n",
       "    .dataframe tbody tr th {\n",
       "        vertical-align: top;\n",
       "    }\n",
       "\n",
       "    .dataframe thead tr th {\n",
       "        text-align: left;\n",
       "    }\n",
       "</style>\n",
       "<table border=\"1\" class=\"dataframe\">\n",
       "  <thead>\n",
       "    <tr>\n",
       "      <th></th>\n",
       "      <th colspan=\"5\" halign=\"left\">AGG</th>\n",
       "      <th colspan=\"5\" halign=\"left\">SPY</th>\n",
       "    </tr>\n",
       "    <tr>\n",
       "      <th></th>\n",
       "      <th>open</th>\n",
       "      <th>high</th>\n",
       "      <th>low</th>\n",
       "      <th>close</th>\n",
       "      <th>volume</th>\n",
       "      <th>open</th>\n",
       "      <th>high</th>\n",
       "      <th>low</th>\n",
       "      <th>close</th>\n",
       "      <th>volume</th>\n",
       "    </tr>\n",
       "  </thead>\n",
       "  <tbody>\n",
       "    <tr>\n",
       "      <th>2017-06-30 00:00:00-04:00</th>\n",
       "      <td>109.62</td>\n",
       "      <td>109.6273</td>\n",
       "      <td>109.46</td>\n",
       "      <td>109.49</td>\n",
       "      <td>2201175.0</td>\n",
       "      <td>242.26</td>\n",
       "      <td>242.71</td>\n",
       "      <td>241.575</td>\n",
       "      <td>241.77</td>\n",
       "      <td>50347309</td>\n",
       "    </tr>\n",
       "    <tr>\n",
       "      <th>2017-07-03 00:00:00-04:00</th>\n",
       "      <td>109.30</td>\n",
       "      <td>109.3000</td>\n",
       "      <td>109.01</td>\n",
       "      <td>109.08</td>\n",
       "      <td>1681516.0</td>\n",
       "      <td>242.91</td>\n",
       "      <td>243.38</td>\n",
       "      <td>242.290</td>\n",
       "      <td>242.32</td>\n",
       "      <td>27234078</td>\n",
       "    </tr>\n",
       "    <tr>\n",
       "      <th>2017-07-05 00:00:00-04:00</th>\n",
       "      <td>109.08</td>\n",
       "      <td>109.1800</td>\n",
       "      <td>109.00</td>\n",
       "      <td>109.15</td>\n",
       "      <td>2694196.0</td>\n",
       "      <td>242.62</td>\n",
       "      <td>243.01</td>\n",
       "      <td>241.700</td>\n",
       "      <td>242.77</td>\n",
       "      <td>41067682</td>\n",
       "    </tr>\n",
       "    <tr>\n",
       "      <th>2017-07-06 00:00:00-04:00</th>\n",
       "      <td>108.95</td>\n",
       "      <td>109.0000</td>\n",
       "      <td>108.82</td>\n",
       "      <td>108.95</td>\n",
       "      <td>2057393.0</td>\n",
       "      <td>241.88</td>\n",
       "      <td>242.03</td>\n",
       "      <td>240.340</td>\n",
       "      <td>240.58</td>\n",
       "      <td>52390161</td>\n",
       "    </tr>\n",
       "    <tr>\n",
       "      <th>2017-07-07 00:00:00-04:00</th>\n",
       "      <td>108.89</td>\n",
       "      <td>108.9500</td>\n",
       "      <td>108.83</td>\n",
       "      <td>108.87</td>\n",
       "      <td>2536724.0</td>\n",
       "      <td>241.21</td>\n",
       "      <td>242.28</td>\n",
       "      <td>241.020</td>\n",
       "      <td>242.10</td>\n",
       "      <td>36831437</td>\n",
       "    </tr>\n",
       "  </tbody>\n",
       "</table>\n",
       "</div>"
      ],
      "text/plain": [
       "                              AGG                                       \\\n",
       "                             open      high     low   close     volume   \n",
       "2017-06-30 00:00:00-04:00  109.62  109.6273  109.46  109.49  2201175.0   \n",
       "2017-07-03 00:00:00-04:00  109.30  109.3000  109.01  109.08  1681516.0   \n",
       "2017-07-05 00:00:00-04:00  109.08  109.1800  109.00  109.15  2694196.0   \n",
       "2017-07-06 00:00:00-04:00  108.95  109.0000  108.82  108.95  2057393.0   \n",
       "2017-07-07 00:00:00-04:00  108.89  108.9500  108.83  108.87  2536724.0   \n",
       "\n",
       "                              SPY                                     \n",
       "                             open    high      low   close    volume  \n",
       "2017-06-30 00:00:00-04:00  242.26  242.71  241.575  241.77  50347309  \n",
       "2017-07-03 00:00:00-04:00  242.91  243.38  242.290  242.32  27234078  \n",
       "2017-07-05 00:00:00-04:00  242.62  243.01  241.700  242.77  41067682  \n",
       "2017-07-06 00:00:00-04:00  241.88  242.03  240.340  240.58  52390161  \n",
       "2017-07-07 00:00:00-04:00  241.21  242.28  241.020  242.10  36831437  "
      ]
     },
     "execution_count": 63,
     "metadata": {},
     "output_type": "execute_result"
    }
   ],
   "source": [
    "# Use the Alpaca get_barset function to make the API call to get the 3 years worth of pricing data\n",
    "# The tickers and timeframe parameters should have been set in Part 1 of this activity \n",
    "# The start and end dates should be updated with the information set above\n",
    "# Remember to add the df property to the end of the call so the response is returned as a DataFrame\n",
    "prices_df = alpaca.get_barset(\n",
    "  tickers,\n",
    "  timeframe,\n",
    "  start=start_date,\n",
    "  end=end_date,\n",
    "  limit=limit_rows\n",
    ").df\n",
    "\n",
    "# Review the first 5 rows of the Alpaca DataFrame\n",
    "\n",
    "# Display both the first and last five rows of the DataFrame\n",
    "prices_df.tail()\n",
    "prices_df.head()\n"
   ]
  },
  {
   "cell_type": "markdown",
   "metadata": {},
   "source": [
    "#### Step 2: Run a Monte Carlo simulation of 500 samples and 30 years for the 60/40 portfolio, and then plot the results."
   ]
  },
  {
   "cell_type": "code",
   "execution_count": 72,
   "metadata": {},
   "outputs": [
    {
     "data": {
      "text/html": [
       "<div>\n",
       "<style scoped>\n",
       "    .dataframe tbody tr th:only-of-type {\n",
       "        vertical-align: middle;\n",
       "    }\n",
       "\n",
       "    .dataframe tbody tr th {\n",
       "        vertical-align: top;\n",
       "    }\n",
       "\n",
       "    .dataframe thead tr th {\n",
       "        text-align: left;\n",
       "    }\n",
       "</style>\n",
       "<table border=\"1\" class=\"dataframe\">\n",
       "  <thead>\n",
       "    <tr>\n",
       "      <th></th>\n",
       "      <th colspan=\"6\" halign=\"left\">AGG</th>\n",
       "      <th colspan=\"6\" halign=\"left\">SPY</th>\n",
       "    </tr>\n",
       "    <tr>\n",
       "      <th></th>\n",
       "      <th>open</th>\n",
       "      <th>high</th>\n",
       "      <th>low</th>\n",
       "      <th>close</th>\n",
       "      <th>volume</th>\n",
       "      <th>daily_return</th>\n",
       "      <th>open</th>\n",
       "      <th>high</th>\n",
       "      <th>low</th>\n",
       "      <th>close</th>\n",
       "      <th>volume</th>\n",
       "      <th>daily_return</th>\n",
       "    </tr>\n",
       "  </thead>\n",
       "  <tbody>\n",
       "    <tr>\n",
       "      <th>2017-06-30 00:00:00-04:00</th>\n",
       "      <td>109.62</td>\n",
       "      <td>109.6273</td>\n",
       "      <td>109.46</td>\n",
       "      <td>109.49</td>\n",
       "      <td>2201175.0</td>\n",
       "      <td>NaN</td>\n",
       "      <td>242.26</td>\n",
       "      <td>242.71</td>\n",
       "      <td>241.575</td>\n",
       "      <td>241.77</td>\n",
       "      <td>50347309</td>\n",
       "      <td>NaN</td>\n",
       "    </tr>\n",
       "    <tr>\n",
       "      <th>2017-07-03 00:00:00-04:00</th>\n",
       "      <td>109.30</td>\n",
       "      <td>109.3000</td>\n",
       "      <td>109.01</td>\n",
       "      <td>109.08</td>\n",
       "      <td>1681516.0</td>\n",
       "      <td>-0.003745</td>\n",
       "      <td>242.91</td>\n",
       "      <td>243.38</td>\n",
       "      <td>242.290</td>\n",
       "      <td>242.32</td>\n",
       "      <td>27234078</td>\n",
       "      <td>0.002275</td>\n",
       "    </tr>\n",
       "    <tr>\n",
       "      <th>2017-07-05 00:00:00-04:00</th>\n",
       "      <td>109.08</td>\n",
       "      <td>109.1800</td>\n",
       "      <td>109.00</td>\n",
       "      <td>109.15</td>\n",
       "      <td>2694196.0</td>\n",
       "      <td>0.000642</td>\n",
       "      <td>242.62</td>\n",
       "      <td>243.01</td>\n",
       "      <td>241.700</td>\n",
       "      <td>242.77</td>\n",
       "      <td>41067682</td>\n",
       "      <td>0.001857</td>\n",
       "    </tr>\n",
       "    <tr>\n",
       "      <th>2017-07-06 00:00:00-04:00</th>\n",
       "      <td>108.95</td>\n",
       "      <td>109.0000</td>\n",
       "      <td>108.82</td>\n",
       "      <td>108.95</td>\n",
       "      <td>2057393.0</td>\n",
       "      <td>-0.001832</td>\n",
       "      <td>241.88</td>\n",
       "      <td>242.03</td>\n",
       "      <td>240.340</td>\n",
       "      <td>240.58</td>\n",
       "      <td>52390161</td>\n",
       "      <td>-0.009021</td>\n",
       "    </tr>\n",
       "    <tr>\n",
       "      <th>2017-07-07 00:00:00-04:00</th>\n",
       "      <td>108.89</td>\n",
       "      <td>108.9500</td>\n",
       "      <td>108.83</td>\n",
       "      <td>108.87</td>\n",
       "      <td>2536724.0</td>\n",
       "      <td>-0.000734</td>\n",
       "      <td>241.21</td>\n",
       "      <td>242.28</td>\n",
       "      <td>241.020</td>\n",
       "      <td>242.10</td>\n",
       "      <td>36831437</td>\n",
       "      <td>0.006318</td>\n",
       "    </tr>\n",
       "  </tbody>\n",
       "</table>\n",
       "</div>"
      ],
      "text/plain": [
       "                              AGG                                       \\\n",
       "                             open      high     low   close     volume   \n",
       "2017-06-30 00:00:00-04:00  109.62  109.6273  109.46  109.49  2201175.0   \n",
       "2017-07-03 00:00:00-04:00  109.30  109.3000  109.01  109.08  1681516.0   \n",
       "2017-07-05 00:00:00-04:00  109.08  109.1800  109.00  109.15  2694196.0   \n",
       "2017-07-06 00:00:00-04:00  108.95  109.0000  108.82  108.95  2057393.0   \n",
       "2017-07-07 00:00:00-04:00  108.89  108.9500  108.83  108.87  2536724.0   \n",
       "\n",
       "                                           SPY                           \\\n",
       "                          daily_return    open    high      low   close   \n",
       "2017-06-30 00:00:00-04:00          NaN  242.26  242.71  241.575  241.77   \n",
       "2017-07-03 00:00:00-04:00    -0.003745  242.91  243.38  242.290  242.32   \n",
       "2017-07-05 00:00:00-04:00     0.000642  242.62  243.01  241.700  242.77   \n",
       "2017-07-06 00:00:00-04:00    -0.001832  241.88  242.03  240.340  240.58   \n",
       "2017-07-07 00:00:00-04:00    -0.000734  241.21  242.28  241.020  242.10   \n",
       "\n",
       "                                                  \n",
       "                             volume daily_return  \n",
       "2017-06-30 00:00:00-04:00  50347309          NaN  \n",
       "2017-07-03 00:00:00-04:00  27234078     0.002275  \n",
       "2017-07-05 00:00:00-04:00  41067682     0.001857  \n",
       "2017-07-06 00:00:00-04:00  52390161    -0.009021  \n",
       "2017-07-07 00:00:00-04:00  36831437     0.006318  "
      ]
     },
     "execution_count": 72,
     "metadata": {},
     "output_type": "execute_result"
    }
   ],
   "source": [
    "# Configure the Monte Carlo simulation to forecast 30 years cumulative returns\n",
    "# The weights should be split 40% to AGG and 60% to SPY.\n",
    "# Run 500 samples.\n",
    "MC_fiveyear = MCSimulation(\n",
    "  portfolio_data = prices_df,\n",
    "  weights = [.40,.60],\n",
    "  num_simulation = 500,\n",
    "  num_trading_days = 252*30\n",
    ")\n",
    "# Review the simulation input data\n",
    "MC_fiveyear.portfolio_data.head()"
   ]
  },
  {
   "cell_type": "code",
   "execution_count": 73,
   "metadata": {},
   "outputs": [
    {
     "name": "stdout",
     "output_type": "stream",
     "text": [
      "Running Monte Carlo simulation number 0.\n",
      "Running Monte Carlo simulation number 10.\n",
      "Running Monte Carlo simulation number 20.\n",
      "Running Monte Carlo simulation number 30.\n",
      "Running Monte Carlo simulation number 40.\n",
      "Running Monte Carlo simulation number 50.\n",
      "Running Monte Carlo simulation number 60.\n",
      "Running Monte Carlo simulation number 70.\n",
      "Running Monte Carlo simulation number 80.\n",
      "Running Monte Carlo simulation number 90.\n",
      "Running Monte Carlo simulation number 100.\n",
      "Running Monte Carlo simulation number 110.\n",
      "Running Monte Carlo simulation number 120.\n",
      "Running Monte Carlo simulation number 130.\n",
      "Running Monte Carlo simulation number 140.\n",
      "Running Monte Carlo simulation number 150.\n",
      "Running Monte Carlo simulation number 160.\n",
      "Running Monte Carlo simulation number 170.\n",
      "Running Monte Carlo simulation number 180.\n",
      "Running Monte Carlo simulation number 190.\n",
      "Running Monte Carlo simulation number 200.\n",
      "Running Monte Carlo simulation number 210.\n",
      "Running Monte Carlo simulation number 220.\n",
      "Running Monte Carlo simulation number 230.\n",
      "Running Monte Carlo simulation number 240.\n",
      "Running Monte Carlo simulation number 250.\n",
      "Running Monte Carlo simulation number 260.\n",
      "Running Monte Carlo simulation number 270.\n",
      "Running Monte Carlo simulation number 280.\n",
      "Running Monte Carlo simulation number 290.\n",
      "Running Monte Carlo simulation number 300.\n",
      "Running Monte Carlo simulation number 310.\n",
      "Running Monte Carlo simulation number 320.\n",
      "Running Monte Carlo simulation number 330.\n",
      "Running Monte Carlo simulation number 340.\n",
      "Running Monte Carlo simulation number 350.\n",
      "Running Monte Carlo simulation number 360.\n",
      "Running Monte Carlo simulation number 370.\n",
      "Running Monte Carlo simulation number 380.\n",
      "Running Monte Carlo simulation number 390.\n",
      "Running Monte Carlo simulation number 400.\n",
      "Running Monte Carlo simulation number 410.\n",
      "Running Monte Carlo simulation number 420.\n",
      "Running Monte Carlo simulation number 430.\n",
      "Running Monte Carlo simulation number 440.\n",
      "Running Monte Carlo simulation number 450.\n",
      "Running Monte Carlo simulation number 460.\n",
      "Running Monte Carlo simulation number 470.\n",
      "Running Monte Carlo simulation number 480.\n",
      "Running Monte Carlo simulation number 490.\n"
     ]
    },
    {
     "data": {
      "text/html": [
       "<div>\n",
       "<style scoped>\n",
       "    .dataframe tbody tr th:only-of-type {\n",
       "        vertical-align: middle;\n",
       "    }\n",
       "\n",
       "    .dataframe tbody tr th {\n",
       "        vertical-align: top;\n",
       "    }\n",
       "\n",
       "    .dataframe thead th {\n",
       "        text-align: right;\n",
       "    }\n",
       "</style>\n",
       "<table border=\"1\" class=\"dataframe\">\n",
       "  <thead>\n",
       "    <tr style=\"text-align: right;\">\n",
       "      <th></th>\n",
       "      <th>0</th>\n",
       "      <th>1</th>\n",
       "      <th>2</th>\n",
       "      <th>3</th>\n",
       "      <th>4</th>\n",
       "      <th>5</th>\n",
       "      <th>6</th>\n",
       "      <th>7</th>\n",
       "      <th>8</th>\n",
       "      <th>9</th>\n",
       "      <th>...</th>\n",
       "      <th>490</th>\n",
       "      <th>491</th>\n",
       "      <th>492</th>\n",
       "      <th>493</th>\n",
       "      <th>494</th>\n",
       "      <th>495</th>\n",
       "      <th>496</th>\n",
       "      <th>497</th>\n",
       "      <th>498</th>\n",
       "      <th>499</th>\n",
       "    </tr>\n",
       "  </thead>\n",
       "  <tbody>\n",
       "    <tr>\n",
       "      <th>0</th>\n",
       "      <td>1.000000</td>\n",
       "      <td>1.000000</td>\n",
       "      <td>1.000000</td>\n",
       "      <td>1.000000</td>\n",
       "      <td>1.000000</td>\n",
       "      <td>1.000000</td>\n",
       "      <td>1.000000</td>\n",
       "      <td>1.000000</td>\n",
       "      <td>1.000000</td>\n",
       "      <td>1.000000</td>\n",
       "      <td>...</td>\n",
       "      <td>1.000000</td>\n",
       "      <td>1.000000</td>\n",
       "      <td>1.000000</td>\n",
       "      <td>1.000000</td>\n",
       "      <td>1.000000</td>\n",
       "      <td>1.000000</td>\n",
       "      <td>1.000000</td>\n",
       "      <td>1.000000</td>\n",
       "      <td>1.000000</td>\n",
       "      <td>1.000000</td>\n",
       "    </tr>\n",
       "    <tr>\n",
       "      <th>1</th>\n",
       "      <td>1.017486</td>\n",
       "      <td>0.985221</td>\n",
       "      <td>0.997705</td>\n",
       "      <td>1.002149</td>\n",
       "      <td>1.002767</td>\n",
       "      <td>1.019732</td>\n",
       "      <td>0.995384</td>\n",
       "      <td>0.996549</td>\n",
       "      <td>0.989140</td>\n",
       "      <td>0.994951</td>\n",
       "      <td>...</td>\n",
       "      <td>0.995230</td>\n",
       "      <td>0.999447</td>\n",
       "      <td>0.992876</td>\n",
       "      <td>1.010758</td>\n",
       "      <td>1.011012</td>\n",
       "      <td>1.006103</td>\n",
       "      <td>1.007757</td>\n",
       "      <td>1.003394</td>\n",
       "      <td>1.013632</td>\n",
       "      <td>0.994922</td>\n",
       "    </tr>\n",
       "    <tr>\n",
       "      <th>2</th>\n",
       "      <td>1.002095</td>\n",
       "      <td>0.973182</td>\n",
       "      <td>1.016557</td>\n",
       "      <td>1.000458</td>\n",
       "      <td>1.004915</td>\n",
       "      <td>1.019009</td>\n",
       "      <td>1.003874</td>\n",
       "      <td>1.004391</td>\n",
       "      <td>0.991277</td>\n",
       "      <td>1.000529</td>\n",
       "      <td>...</td>\n",
       "      <td>0.989032</td>\n",
       "      <td>1.001918</td>\n",
       "      <td>0.996363</td>\n",
       "      <td>1.020696</td>\n",
       "      <td>1.006666</td>\n",
       "      <td>0.997748</td>\n",
       "      <td>1.007432</td>\n",
       "      <td>1.015829</td>\n",
       "      <td>1.030679</td>\n",
       "      <td>0.968929</td>\n",
       "    </tr>\n",
       "    <tr>\n",
       "      <th>3</th>\n",
       "      <td>0.998978</td>\n",
       "      <td>0.973546</td>\n",
       "      <td>1.019106</td>\n",
       "      <td>1.003780</td>\n",
       "      <td>1.018006</td>\n",
       "      <td>1.009158</td>\n",
       "      <td>0.992753</td>\n",
       "      <td>0.996906</td>\n",
       "      <td>0.980971</td>\n",
       "      <td>0.994410</td>\n",
       "      <td>...</td>\n",
       "      <td>0.987751</td>\n",
       "      <td>0.995862</td>\n",
       "      <td>0.997379</td>\n",
       "      <td>1.031645</td>\n",
       "      <td>1.014827</td>\n",
       "      <td>1.004693</td>\n",
       "      <td>1.003022</td>\n",
       "      <td>1.022052</td>\n",
       "      <td>1.034807</td>\n",
       "      <td>0.974386</td>\n",
       "    </tr>\n",
       "    <tr>\n",
       "      <th>4</th>\n",
       "      <td>1.011234</td>\n",
       "      <td>0.981028</td>\n",
       "      <td>1.020867</td>\n",
       "      <td>0.999757</td>\n",
       "      <td>1.022736</td>\n",
       "      <td>1.015966</td>\n",
       "      <td>0.981774</td>\n",
       "      <td>0.988665</td>\n",
       "      <td>0.990436</td>\n",
       "      <td>0.996862</td>\n",
       "      <td>...</td>\n",
       "      <td>0.978802</td>\n",
       "      <td>1.004908</td>\n",
       "      <td>1.004857</td>\n",
       "      <td>1.035430</td>\n",
       "      <td>1.003573</td>\n",
       "      <td>1.010340</td>\n",
       "      <td>1.022106</td>\n",
       "      <td>1.030572</td>\n",
       "      <td>1.030224</td>\n",
       "      <td>0.981367</td>\n",
       "    </tr>\n",
       "    <tr>\n",
       "      <th>...</th>\n",
       "      <td>...</td>\n",
       "      <td>...</td>\n",
       "      <td>...</td>\n",
       "      <td>...</td>\n",
       "      <td>...</td>\n",
       "      <td>...</td>\n",
       "      <td>...</td>\n",
       "      <td>...</td>\n",
       "      <td>...</td>\n",
       "      <td>...</td>\n",
       "      <td>...</td>\n",
       "      <td>...</td>\n",
       "      <td>...</td>\n",
       "      <td>...</td>\n",
       "      <td>...</td>\n",
       "      <td>...</td>\n",
       "      <td>...</td>\n",
       "      <td>...</td>\n",
       "      <td>...</td>\n",
       "      <td>...</td>\n",
       "      <td>...</td>\n",
       "    </tr>\n",
       "    <tr>\n",
       "      <th>7556</th>\n",
       "      <td>3.428429</td>\n",
       "      <td>7.618492</td>\n",
       "      <td>6.095622</td>\n",
       "      <td>21.737564</td>\n",
       "      <td>1.722347</td>\n",
       "      <td>6.914520</td>\n",
       "      <td>4.446290</td>\n",
       "      <td>8.243332</td>\n",
       "      <td>4.874877</td>\n",
       "      <td>4.813331</td>\n",
       "      <td>...</td>\n",
       "      <td>6.565864</td>\n",
       "      <td>12.237315</td>\n",
       "      <td>13.377284</td>\n",
       "      <td>6.741075</td>\n",
       "      <td>4.223036</td>\n",
       "      <td>9.759806</td>\n",
       "      <td>4.057621</td>\n",
       "      <td>3.066700</td>\n",
       "      <td>9.639681</td>\n",
       "      <td>12.903619</td>\n",
       "    </tr>\n",
       "    <tr>\n",
       "      <th>7557</th>\n",
       "      <td>3.410332</td>\n",
       "      <td>7.602534</td>\n",
       "      <td>6.032477</td>\n",
       "      <td>21.861077</td>\n",
       "      <td>1.732665</td>\n",
       "      <td>6.937372</td>\n",
       "      <td>4.441435</td>\n",
       "      <td>8.077905</td>\n",
       "      <td>4.884362</td>\n",
       "      <td>4.721215</td>\n",
       "      <td>...</td>\n",
       "      <td>6.645636</td>\n",
       "      <td>12.190928</td>\n",
       "      <td>13.463204</td>\n",
       "      <td>6.735495</td>\n",
       "      <td>4.266740</td>\n",
       "      <td>9.817848</td>\n",
       "      <td>4.011936</td>\n",
       "      <td>3.120032</td>\n",
       "      <td>9.719555</td>\n",
       "      <td>13.042676</td>\n",
       "    </tr>\n",
       "    <tr>\n",
       "      <th>7558</th>\n",
       "      <td>3.431562</td>\n",
       "      <td>7.604567</td>\n",
       "      <td>6.143765</td>\n",
       "      <td>21.660646</td>\n",
       "      <td>1.768144</td>\n",
       "      <td>6.935882</td>\n",
       "      <td>4.470784</td>\n",
       "      <td>8.135856</td>\n",
       "      <td>4.849537</td>\n",
       "      <td>4.755518</td>\n",
       "      <td>...</td>\n",
       "      <td>6.570887</td>\n",
       "      <td>12.057296</td>\n",
       "      <td>13.450371</td>\n",
       "      <td>6.809829</td>\n",
       "      <td>4.258134</td>\n",
       "      <td>9.772724</td>\n",
       "      <td>3.945753</td>\n",
       "      <td>3.102785</td>\n",
       "      <td>9.736013</td>\n",
       "      <td>12.918672</td>\n",
       "    </tr>\n",
       "    <tr>\n",
       "      <th>7559</th>\n",
       "      <td>3.419945</td>\n",
       "      <td>7.634661</td>\n",
       "      <td>6.040560</td>\n",
       "      <td>21.792230</td>\n",
       "      <td>1.771203</td>\n",
       "      <td>7.064091</td>\n",
       "      <td>4.474872</td>\n",
       "      <td>8.201484</td>\n",
       "      <td>4.861243</td>\n",
       "      <td>4.720891</td>\n",
       "      <td>...</td>\n",
       "      <td>6.575631</td>\n",
       "      <td>12.125595</td>\n",
       "      <td>13.386216</td>\n",
       "      <td>6.804075</td>\n",
       "      <td>4.258854</td>\n",
       "      <td>9.649785</td>\n",
       "      <td>3.917106</td>\n",
       "      <td>3.116758</td>\n",
       "      <td>9.713137</td>\n",
       "      <td>12.898464</td>\n",
       "    </tr>\n",
       "    <tr>\n",
       "      <th>7560</th>\n",
       "      <td>3.426466</td>\n",
       "      <td>7.704942</td>\n",
       "      <td>6.112996</td>\n",
       "      <td>21.957656</td>\n",
       "      <td>1.786519</td>\n",
       "      <td>7.052212</td>\n",
       "      <td>4.504182</td>\n",
       "      <td>8.248662</td>\n",
       "      <td>4.790129</td>\n",
       "      <td>4.705895</td>\n",
       "      <td>...</td>\n",
       "      <td>6.553945</td>\n",
       "      <td>12.235113</td>\n",
       "      <td>13.523384</td>\n",
       "      <td>6.818903</td>\n",
       "      <td>4.227659</td>\n",
       "      <td>9.764079</td>\n",
       "      <td>3.894062</td>\n",
       "      <td>3.095886</td>\n",
       "      <td>9.739466</td>\n",
       "      <td>12.876255</td>\n",
       "    </tr>\n",
       "  </tbody>\n",
       "</table>\n",
       "<p>7561 rows × 500 columns</p>\n",
       "</div>"
      ],
      "text/plain": [
       "           0         1         2          3         4         5         6    \\\n",
       "0     1.000000  1.000000  1.000000   1.000000  1.000000  1.000000  1.000000   \n",
       "1     1.017486  0.985221  0.997705   1.002149  1.002767  1.019732  0.995384   \n",
       "2     1.002095  0.973182  1.016557   1.000458  1.004915  1.019009  1.003874   \n",
       "3     0.998978  0.973546  1.019106   1.003780  1.018006  1.009158  0.992753   \n",
       "4     1.011234  0.981028  1.020867   0.999757  1.022736  1.015966  0.981774   \n",
       "...        ...       ...       ...        ...       ...       ...       ...   \n",
       "7556  3.428429  7.618492  6.095622  21.737564  1.722347  6.914520  4.446290   \n",
       "7557  3.410332  7.602534  6.032477  21.861077  1.732665  6.937372  4.441435   \n",
       "7558  3.431562  7.604567  6.143765  21.660646  1.768144  6.935882  4.470784   \n",
       "7559  3.419945  7.634661  6.040560  21.792230  1.771203  7.064091  4.474872   \n",
       "7560  3.426466  7.704942  6.112996  21.957656  1.786519  7.052212  4.504182   \n",
       "\n",
       "           7         8         9    ...       490        491        492  \\\n",
       "0     1.000000  1.000000  1.000000  ...  1.000000   1.000000   1.000000   \n",
       "1     0.996549  0.989140  0.994951  ...  0.995230   0.999447   0.992876   \n",
       "2     1.004391  0.991277  1.000529  ...  0.989032   1.001918   0.996363   \n",
       "3     0.996906  0.980971  0.994410  ...  0.987751   0.995862   0.997379   \n",
       "4     0.988665  0.990436  0.996862  ...  0.978802   1.004908   1.004857   \n",
       "...        ...       ...       ...  ...       ...        ...        ...   \n",
       "7556  8.243332  4.874877  4.813331  ...  6.565864  12.237315  13.377284   \n",
       "7557  8.077905  4.884362  4.721215  ...  6.645636  12.190928  13.463204   \n",
       "7558  8.135856  4.849537  4.755518  ...  6.570887  12.057296  13.450371   \n",
       "7559  8.201484  4.861243  4.720891  ...  6.575631  12.125595  13.386216   \n",
       "7560  8.248662  4.790129  4.705895  ...  6.553945  12.235113  13.523384   \n",
       "\n",
       "           493       494       495       496       497       498        499  \n",
       "0     1.000000  1.000000  1.000000  1.000000  1.000000  1.000000   1.000000  \n",
       "1     1.010758  1.011012  1.006103  1.007757  1.003394  1.013632   0.994922  \n",
       "2     1.020696  1.006666  0.997748  1.007432  1.015829  1.030679   0.968929  \n",
       "3     1.031645  1.014827  1.004693  1.003022  1.022052  1.034807   0.974386  \n",
       "4     1.035430  1.003573  1.010340  1.022106  1.030572  1.030224   0.981367  \n",
       "...        ...       ...       ...       ...       ...       ...        ...  \n",
       "7556  6.741075  4.223036  9.759806  4.057621  3.066700  9.639681  12.903619  \n",
       "7557  6.735495  4.266740  9.817848  4.011936  3.120032  9.719555  13.042676  \n",
       "7558  6.809829  4.258134  9.772724  3.945753  3.102785  9.736013  12.918672  \n",
       "7559  6.804075  4.258854  9.649785  3.917106  3.116758  9.713137  12.898464  \n",
       "7560  6.818903  4.227659  9.764079  3.894062  3.095886  9.739466  12.876255  \n",
       "\n",
       "[7561 rows x 500 columns]"
      ]
     },
     "execution_count": 73,
     "metadata": {},
     "output_type": "execute_result"
    }
   ],
   "source": [
    "# Run the Monte Carlo simulation to forecast 30 years cumulative returns\n",
    "MC_fiveyear.calc_cumulative_return()"
   ]
  },
  {
   "cell_type": "code",
   "execution_count": 74,
   "metadata": {},
   "outputs": [
    {
     "data": {
      "image/png": "[encoded data removed]",
      "text/plain": [
       "<Figure size 432x288 with 1 Axes>"
      ]
     },
     "metadata": {
      "needs_background": "light"
     },
     "output_type": "display_data"
    }
   ],
   "source": [
    "# Visualize the 30-year Monte Carlo simulation by creating an\n",
    "# overlay line plot\n",
    "MC_sim_line_plot = MC_fiveyear.plot_simulation()\n",
    "MC_sim_line_plot.get_figure().savefig(\"MC_30year_sim_plot.png\", bbox_inches=\"tight\")\n"
   ]
  },
  {
   "cell_type": "markdown",
   "metadata": {},
   "source": [
    "#### Step 3: Plot the probability distribution of the Monte Carlo simulation."
   ]
  },
  {
   "cell_type": "code",
   "execution_count": 76,
   "metadata": {},
   "outputs": [
    {
     "data": {
      "image/png": "[encoded data removed]",
      "text/plain": [
       "<Figure size 432x288 with 1 Axes>"
      ]
     },
     "metadata": {
      "needs_background": "light"
     },
     "output_type": "display_data"
    }
   ],
   "source": [
    "# Visualize the probability distribution of the 30-year Monte Carlo simulation \n",
    "# by plotting a histogram\n",
    "MC_sim_dist_plot = MC_fiveyear.plot_distribution()\n",
    "\n",
    "# Save the plot for future use\n",
    "MC_sim_dist_plot.get_figure().savefig('MC_30year_dist_plot.png',bbox_inches='tight')\n"
   ]
  },
  {
   "cell_type": "markdown",
   "metadata": {},
   "source": [
    "#### Step 4: Generate the summary statistics for the Monte Carlo simulation."
   ]
  },
  {
   "cell_type": "code",
   "execution_count": 77,
   "metadata": {},
   "outputs": [
    {
     "name": "stdout",
     "output_type": "stream",
     "text": [
      "count           500.000000\n",
      "mean              8.458201\n",
      "std               5.902694\n",
      "min               1.229075\n",
      "25%               4.599254\n",
      "50%               7.046525\n",
      "75%              10.679261\n",
      "max              41.760665\n",
      "95% CI Lower      1.958132\n",
      "95% CI Upper     25.438380\n",
      "Name: 7560, dtype: float64\n"
     ]
    }
   ],
   "source": [
    "# Generate summary statistics from the 30-year Monte Carlo simulation results\n",
    "# Save the results as a variable\n",
    "MC_summary_statistics = MC_fiveyear.summarize_cumulative_return()\n",
    "\n",
    "# Review the 30-year Monte Carlo summary statistics\n",
    "print(MC_summary_statistics)"
   ]
  },
  {
   "cell_type": "markdown",
   "metadata": {},
   "source": [
    "### Analyze the Retirement Portfolio Forecasts\n",
    "\n",
    "Using the current value of only the stock and bond portion of the member's portfolio and the summary statistics that you generated from the Monte Carlo simulation, answer the following question in your Jupyter notebook:\n",
    "\n",
    "-  What are the lower and upper bounds for the expected value of the portfolio with a 95% confidence interval?\n"
   ]
  },
  {
   "cell_type": "code",
   "execution_count": 78,
   "metadata": {},
   "outputs": [
    {
     "name": "stdout",
     "output_type": "stream",
     "text": [
      "60689.5\n"
     ]
    }
   ],
   "source": [
    "# Print the current balance of the stock and bond portion of the members portfolio\n",
    "# YOUR CODE HERE\n",
    "print(total_stocks_bonds)"
   ]
  },
  {
   "cell_type": "code",
   "execution_count": 81,
   "metadata": {},
   "outputs": [
    {
     "name": "stdout",
     "output_type": "stream",
     "text": [
      "There is a 95% chance that an initial investment of $60689.5 in the portfolio over the next 30 years will end within in the range of $ 118838.04 and $ 1543842.56.\n"
     ]
    }
   ],
   "source": [
    "# Use the lower and upper `95%` confidence intervals to calculate the range of the possible outcomes for the current stock/bond portfolio\n",
    "ci_lower_thirty_cumulative_return = MC_summary_statistics[8] * total_stocks_bonds\n",
    "ci_upper_thirty_cumulative_return = MC_summary_statistics[9] * total_stocks_bonds\n",
    "\n",
    "# Print the result of your calculations\n",
    "print(f\"There is a 95% chance that an initial investment of ${total_stocks_bonds} in the portfolio\"\n",
    "  f\" over the next 30 years will end within in the range of\"\n",
    "  f\" ${ci_lower_thirty_cumulative_return: .2f} and ${ci_upper_thirty_cumulative_return: .2f}.\")"
   ]
  },
  {
   "cell_type": "markdown",
   "metadata": {},
   "source": [
    "### Forecast Cumulative Returns in 10 Years\n",
    "\n",
    "The CTO of the credit union is impressed with your work on these planning tools but wonders if 30 years is a long time to wait until retirement. So, your next task is to adjust the retirement portfolio and run a new Monte Carlo simulation to find out if the changes will allow members to retire earlier.\n",
    "\n",
    "For this new Monte Carlo simulation, do the following: \n",
    "\n",
    "- Forecast the cumulative returns for 10 years from now. Because of the shortened investment horizon (30 years to 10 years), the portfolio needs to invest more heavily in the riskier asset&mdash;that is, stock&mdash;to help accumulate wealth for retirement. \n",
    "\n",
    "- Adjust the weights of the retirement portfolio so that the composition for the Monte Carlo simulation consists of 20% bonds and 80% stocks. \n",
    "\n",
    "- Run the simulation over 500 samples, and use the same data that the API call to Alpaca generated.\n",
    "\n",
    "- Based on the new Monte Carlo simulation, answer the following questions in your Jupyter notebook:\n",
    "\n",
    "    - Using the current value of only the stock and bond portion of the member's portfolio and the summary statistics that you generated from the new Monte Carlo simulation, what are the lower and upper bounds for the expected value of the portfolio (with the new weights) with a 95% confidence interval?\n",
    "\n",
    "    - Will weighting the portfolio more heavily toward stocks allow the credit union members to retire after only 10 years?\n"
   ]
  },
  {
   "cell_type": "code",
   "execution_count": 82,
   "metadata": {},
   "outputs": [
    {
     "data": {
      "text/html": [
       "<div>\n",
       "<style scoped>\n",
       "    .dataframe tbody tr th:only-of-type {\n",
       "        vertical-align: middle;\n",
       "    }\n",
       "\n",
       "    .dataframe tbody tr th {\n",
       "        vertical-align: top;\n",
       "    }\n",
       "\n",
       "    .dataframe thead tr th {\n",
       "        text-align: left;\n",
       "    }\n",
       "</style>\n",
       "<table border=\"1\" class=\"dataframe\">\n",
       "  <thead>\n",
       "    <tr>\n",
       "      <th></th>\n",
       "      <th colspan=\"6\" halign=\"left\">AGG</th>\n",
       "      <th colspan=\"6\" halign=\"left\">SPY</th>\n",
       "    </tr>\n",
       "    <tr>\n",
       "      <th></th>\n",
       "      <th>open</th>\n",
       "      <th>high</th>\n",
       "      <th>low</th>\n",
       "      <th>close</th>\n",
       "      <th>volume</th>\n",
       "      <th>daily_return</th>\n",
       "      <th>open</th>\n",
       "      <th>high</th>\n",
       "      <th>low</th>\n",
       "      <th>close</th>\n",
       "      <th>volume</th>\n",
       "      <th>daily_return</th>\n",
       "    </tr>\n",
       "  </thead>\n",
       "  <tbody>\n",
       "    <tr>\n",
       "      <th>2017-06-30 00:00:00-04:00</th>\n",
       "      <td>109.62</td>\n",
       "      <td>109.6273</td>\n",
       "      <td>109.46</td>\n",
       "      <td>109.49</td>\n",
       "      <td>2201175.0</td>\n",
       "      <td>NaN</td>\n",
       "      <td>242.26</td>\n",
       "      <td>242.71</td>\n",
       "      <td>241.575</td>\n",
       "      <td>241.77</td>\n",
       "      <td>50347309</td>\n",
       "      <td>NaN</td>\n",
       "    </tr>\n",
       "    <tr>\n",
       "      <th>2017-07-03 00:00:00-04:00</th>\n",
       "      <td>109.30</td>\n",
       "      <td>109.3000</td>\n",
       "      <td>109.01</td>\n",
       "      <td>109.08</td>\n",
       "      <td>1681516.0</td>\n",
       "      <td>-0.003745</td>\n",
       "      <td>242.91</td>\n",
       "      <td>243.38</td>\n",
       "      <td>242.290</td>\n",
       "      <td>242.32</td>\n",
       "      <td>27234078</td>\n",
       "      <td>0.002275</td>\n",
       "    </tr>\n",
       "    <tr>\n",
       "      <th>2017-07-05 00:00:00-04:00</th>\n",
       "      <td>109.08</td>\n",
       "      <td>109.1800</td>\n",
       "      <td>109.00</td>\n",
       "      <td>109.15</td>\n",
       "      <td>2694196.0</td>\n",
       "      <td>0.000642</td>\n",
       "      <td>242.62</td>\n",
       "      <td>243.01</td>\n",
       "      <td>241.700</td>\n",
       "      <td>242.77</td>\n",
       "      <td>41067682</td>\n",
       "      <td>0.001857</td>\n",
       "    </tr>\n",
       "    <tr>\n",
       "      <th>2017-07-06 00:00:00-04:00</th>\n",
       "      <td>108.95</td>\n",
       "      <td>109.0000</td>\n",
       "      <td>108.82</td>\n",
       "      <td>108.95</td>\n",
       "      <td>2057393.0</td>\n",
       "      <td>-0.001832</td>\n",
       "      <td>241.88</td>\n",
       "      <td>242.03</td>\n",
       "      <td>240.340</td>\n",
       "      <td>240.58</td>\n",
       "      <td>52390161</td>\n",
       "      <td>-0.009021</td>\n",
       "    </tr>\n",
       "    <tr>\n",
       "      <th>2017-07-07 00:00:00-04:00</th>\n",
       "      <td>108.89</td>\n",
       "      <td>108.9500</td>\n",
       "      <td>108.83</td>\n",
       "      <td>108.87</td>\n",
       "      <td>2536724.0</td>\n",
       "      <td>-0.000734</td>\n",
       "      <td>241.21</td>\n",
       "      <td>242.28</td>\n",
       "      <td>241.020</td>\n",
       "      <td>242.10</td>\n",
       "      <td>36831437</td>\n",
       "      <td>0.006318</td>\n",
       "    </tr>\n",
       "  </tbody>\n",
       "</table>\n",
       "</div>"
      ],
      "text/plain": [
       "                              AGG                                       \\\n",
       "                             open      high     low   close     volume   \n",
       "2017-06-30 00:00:00-04:00  109.62  109.6273  109.46  109.49  2201175.0   \n",
       "2017-07-03 00:00:00-04:00  109.30  109.3000  109.01  109.08  1681516.0   \n",
       "2017-07-05 00:00:00-04:00  109.08  109.1800  109.00  109.15  2694196.0   \n",
       "2017-07-06 00:00:00-04:00  108.95  109.0000  108.82  108.95  2057393.0   \n",
       "2017-07-07 00:00:00-04:00  108.89  108.9500  108.83  108.87  2536724.0   \n",
       "\n",
       "                                           SPY                           \\\n",
       "                          daily_return    open    high      low   close   \n",
       "2017-06-30 00:00:00-04:00          NaN  242.26  242.71  241.575  241.77   \n",
       "2017-07-03 00:00:00-04:00    -0.003745  242.91  243.38  242.290  242.32   \n",
       "2017-07-05 00:00:00-04:00     0.000642  242.62  243.01  241.700  242.77   \n",
       "2017-07-06 00:00:00-04:00    -0.001832  241.88  242.03  240.340  240.58   \n",
       "2017-07-07 00:00:00-04:00    -0.000734  241.21  242.28  241.020  242.10   \n",
       "\n",
       "                                                  \n",
       "                             volume daily_return  \n",
       "2017-06-30 00:00:00-04:00  50347309          NaN  \n",
       "2017-07-03 00:00:00-04:00  27234078     0.002275  \n",
       "2017-07-05 00:00:00-04:00  41067682     0.001857  \n",
       "2017-07-06 00:00:00-04:00  52390161    -0.009021  \n",
       "2017-07-07 00:00:00-04:00  36831437     0.006318  "
      ]
     },
     "execution_count": 82,
     "metadata": {},
     "output_type": "execute_result"
    }
   ],
   "source": [
    "# Configure a Monte Carlo simulation to forecast 10 years cumulative returns\n",
    "# The weights should be split 20% to AGG and 80% to SPY.\n",
    "# Run 500 samples.\n",
    "MC_fiveyear = MCSimulation(\n",
    "  portfolio_data = prices_df,\n",
    "  weights = [.20,.80],\n",
    "  num_simulation = 500,\n",
    "  num_trading_days = 252*10\n",
    ")\n",
    "# Review the simulation input data\n",
    "MC_fiveyear.portfolio_data.head()"
   ]
  },
  {
   "cell_type": "code",
   "execution_count": 83,
   "metadata": {},
   "outputs": [
    {
     "name": "stdout",
     "output_type": "stream",
     "text": [
      "Running Monte Carlo simulation number 0.\n",
      "Running Monte Carlo simulation number 10.\n",
      "Running Monte Carlo simulation number 20.\n",
      "Running Monte Carlo simulation number 30.\n",
      "Running Monte Carlo simulation number 40.\n",
      "Running Monte Carlo simulation number 50.\n",
      "Running Monte Carlo simulation number 60.\n",
      "Running Monte Carlo simulation number 70.\n",
      "Running Monte Carlo simulation number 80.\n",
      "Running Monte Carlo simulation number 90.\n",
      "Running Monte Carlo simulation number 100.\n",
      "Running Monte Carlo simulation number 110.\n",
      "Running Monte Carlo simulation number 120.\n",
      "Running Monte Carlo simulation number 130.\n",
      "Running Monte Carlo simulation number 140.\n",
      "Running Monte Carlo simulation number 150.\n",
      "Running Monte Carlo simulation number 160.\n",
      "Running Monte Carlo simulation number 170.\n",
      "Running Monte Carlo simulation number 180.\n",
      "Running Monte Carlo simulation number 190.\n",
      "Running Monte Carlo simulation number 200.\n",
      "Running Monte Carlo simulation number 210.\n",
      "Running Monte Carlo simulation number 220.\n",
      "Running Monte Carlo simulation number 230.\n",
      "Running Monte Carlo simulation number 240.\n",
      "Running Monte Carlo simulation number 250.\n",
      "Running Monte Carlo simulation number 260.\n",
      "Running Monte Carlo simulation number 270.\n",
      "Running Monte Carlo simulation number 280.\n",
      "Running Monte Carlo simulation number 290.\n",
      "Running Monte Carlo simulation number 300.\n",
      "Running Monte Carlo simulation number 310.\n",
      "Running Monte Carlo simulation number 320.\n",
      "Running Monte Carlo simulation number 330.\n",
      "Running Monte Carlo simulation number 340.\n",
      "Running Monte Carlo simulation number 350.\n",
      "Running Monte Carlo simulation number 360.\n",
      "Running Monte Carlo simulation number 370.\n",
      "Running Monte Carlo simulation number 380.\n",
      "Running Monte Carlo simulation number 390.\n",
      "Running Monte Carlo simulation number 400.\n",
      "Running Monte Carlo simulation number 410.\n",
      "Running Monte Carlo simulation number 420.\n",
      "Running Monte Carlo simulation number 430.\n",
      "Running Monte Carlo simulation number 440.\n",
      "Running Monte Carlo simulation number 450.\n",
      "Running Monte Carlo simulation number 460.\n",
      "Running Monte Carlo simulation number 470.\n",
      "Running Monte Carlo simulation number 480.\n",
      "Running Monte Carlo simulation number 490.\n"
     ]
    },
    {
     "data": {
      "text/html": [
       "<div>\n",
       "<style scoped>\n",
       "    .dataframe tbody tr th:only-of-type {\n",
       "        vertical-align: middle;\n",
       "    }\n",
       "\n",
       "    .dataframe tbody tr th {\n",
       "        vertical-align: top;\n",
       "    }\n",
       "\n",
       "    .dataframe thead th {\n",
       "        text-align: right;\n",
       "    }\n",
       "</style>\n",
       "<table border=\"1\" class=\"dataframe\">\n",
       "  <thead>\n",
       "    <tr style=\"text-align: right;\">\n",
       "      <th></th>\n",
       "      <th>0</th>\n",
       "      <th>1</th>\n",
       "      <th>2</th>\n",
       "      <th>3</th>\n",
       "      <th>4</th>\n",
       "      <th>5</th>\n",
       "      <th>6</th>\n",
       "      <th>7</th>\n",
       "      <th>8</th>\n",
       "      <th>9</th>\n",
       "      <th>...</th>\n",
       "      <th>490</th>\n",
       "      <th>491</th>\n",
       "      <th>492</th>\n",
       "      <th>493</th>\n",
       "      <th>494</th>\n",
       "      <th>495</th>\n",
       "      <th>496</th>\n",
       "      <th>497</th>\n",
       "      <th>498</th>\n",
       "      <th>499</th>\n",
       "    </tr>\n",
       "  </thead>\n",
       "  <tbody>\n",
       "    <tr>\n",
       "      <th>0</th>\n",
       "      <td>1.000000</td>\n",
       "      <td>1.000000</td>\n",
       "      <td>1.000000</td>\n",
       "      <td>1.000000</td>\n",
       "      <td>1.000000</td>\n",
       "      <td>1.000000</td>\n",
       "      <td>1.000000</td>\n",
       "      <td>1.000000</td>\n",
       "      <td>1.000000</td>\n",
       "      <td>1.000000</td>\n",
       "      <td>...</td>\n",
       "      <td>1.000000</td>\n",
       "      <td>1.000000</td>\n",
       "      <td>1.000000</td>\n",
       "      <td>1.000000</td>\n",
       "      <td>1.000000</td>\n",
       "      <td>1.000000</td>\n",
       "      <td>1.000000</td>\n",
       "      <td>1.000000</td>\n",
       "      <td>1.000000</td>\n",
       "      <td>1.000000</td>\n",
       "    </tr>\n",
       "    <tr>\n",
       "      <th>1</th>\n",
       "      <td>0.998252</td>\n",
       "      <td>1.001004</td>\n",
       "      <td>0.994813</td>\n",
       "      <td>1.002046</td>\n",
       "      <td>1.016229</td>\n",
       "      <td>1.003978</td>\n",
       "      <td>1.004023</td>\n",
       "      <td>0.999106</td>\n",
       "      <td>1.001598</td>\n",
       "      <td>1.014310</td>\n",
       "      <td>...</td>\n",
       "      <td>1.012192</td>\n",
       "      <td>0.993831</td>\n",
       "      <td>1.019614</td>\n",
       "      <td>1.028169</td>\n",
       "      <td>0.983701</td>\n",
       "      <td>0.993070</td>\n",
       "      <td>1.003618</td>\n",
       "      <td>0.997837</td>\n",
       "      <td>0.990172</td>\n",
       "      <td>0.995151</td>\n",
       "    </tr>\n",
       "    <tr>\n",
       "      <th>2</th>\n",
       "      <td>1.011860</td>\n",
       "      <td>1.005433</td>\n",
       "      <td>1.017292</td>\n",
       "      <td>0.991139</td>\n",
       "      <td>1.033091</td>\n",
       "      <td>0.996321</td>\n",
       "      <td>0.999311</td>\n",
       "      <td>0.996777</td>\n",
       "      <td>1.008131</td>\n",
       "      <td>1.005663</td>\n",
       "      <td>...</td>\n",
       "      <td>1.031756</td>\n",
       "      <td>0.999744</td>\n",
       "      <td>1.013158</td>\n",
       "      <td>1.020319</td>\n",
       "      <td>0.970938</td>\n",
       "      <td>1.003187</td>\n",
       "      <td>0.999571</td>\n",
       "      <td>0.987034</td>\n",
       "      <td>0.959435</td>\n",
       "      <td>0.999733</td>\n",
       "    </tr>\n",
       "    <tr>\n",
       "      <th>3</th>\n",
       "      <td>1.015987</td>\n",
       "      <td>1.019951</td>\n",
       "      <td>1.015334</td>\n",
       "      <td>0.990663</td>\n",
       "      <td>1.032790</td>\n",
       "      <td>0.997699</td>\n",
       "      <td>1.009909</td>\n",
       "      <td>1.014778</td>\n",
       "      <td>0.998282</td>\n",
       "      <td>1.012621</td>\n",
       "      <td>...</td>\n",
       "      <td>1.044495</td>\n",
       "      <td>0.992291</td>\n",
       "      <td>1.008338</td>\n",
       "      <td>1.019528</td>\n",
       "      <td>0.970655</td>\n",
       "      <td>0.998850</td>\n",
       "      <td>1.003317</td>\n",
       "      <td>0.972753</td>\n",
       "      <td>0.969443</td>\n",
       "      <td>0.997396</td>\n",
       "    </tr>\n",
       "    <tr>\n",
       "      <th>4</th>\n",
       "      <td>1.013072</td>\n",
       "      <td>1.013537</td>\n",
       "      <td>1.008764</td>\n",
       "      <td>0.991143</td>\n",
       "      <td>1.040525</td>\n",
       "      <td>1.013336</td>\n",
       "      <td>1.025255</td>\n",
       "      <td>1.017902</td>\n",
       "      <td>0.987840</td>\n",
       "      <td>1.003847</td>\n",
       "      <td>...</td>\n",
       "      <td>1.031576</td>\n",
       "      <td>0.987961</td>\n",
       "      <td>1.021751</td>\n",
       "      <td>1.045291</td>\n",
       "      <td>0.974306</td>\n",
       "      <td>1.019184</td>\n",
       "      <td>0.997257</td>\n",
       "      <td>0.970566</td>\n",
       "      <td>0.971613</td>\n",
       "      <td>0.984354</td>\n",
       "    </tr>\n",
       "    <tr>\n",
       "      <th>...</th>\n",
       "      <td>...</td>\n",
       "      <td>...</td>\n",
       "      <td>...</td>\n",
       "      <td>...</td>\n",
       "      <td>...</td>\n",
       "      <td>...</td>\n",
       "      <td>...</td>\n",
       "      <td>...</td>\n",
       "      <td>...</td>\n",
       "      <td>...</td>\n",
       "      <td>...</td>\n",
       "      <td>...</td>\n",
       "      <td>...</td>\n",
       "      <td>...</td>\n",
       "      <td>...</td>\n",
       "      <td>...</td>\n",
       "      <td>...</td>\n",
       "      <td>...</td>\n",
       "      <td>...</td>\n",
       "      <td>...</td>\n",
       "      <td>...</td>\n",
       "    </tr>\n",
       "    <tr>\n",
       "      <th>2516</th>\n",
       "      <td>1.677661</td>\n",
       "      <td>2.667749</td>\n",
       "      <td>3.145121</td>\n",
       "      <td>1.314030</td>\n",
       "      <td>1.710889</td>\n",
       "      <td>1.928449</td>\n",
       "      <td>0.918229</td>\n",
       "      <td>0.768049</td>\n",
       "      <td>0.805823</td>\n",
       "      <td>3.903261</td>\n",
       "      <td>...</td>\n",
       "      <td>1.692913</td>\n",
       "      <td>2.884768</td>\n",
       "      <td>1.704608</td>\n",
       "      <td>1.600695</td>\n",
       "      <td>9.997211</td>\n",
       "      <td>3.093257</td>\n",
       "      <td>1.183856</td>\n",
       "      <td>1.589251</td>\n",
       "      <td>1.672981</td>\n",
       "      <td>5.562067</td>\n",
       "    </tr>\n",
       "    <tr>\n",
       "      <th>2517</th>\n",
       "      <td>1.707037</td>\n",
       "      <td>2.653969</td>\n",
       "      <td>3.186808</td>\n",
       "      <td>1.301203</td>\n",
       "      <td>1.729525</td>\n",
       "      <td>1.897411</td>\n",
       "      <td>0.923071</td>\n",
       "      <td>0.766753</td>\n",
       "      <td>0.803557</td>\n",
       "      <td>3.775307</td>\n",
       "      <td>...</td>\n",
       "      <td>1.681619</td>\n",
       "      <td>2.894043</td>\n",
       "      <td>1.679550</td>\n",
       "      <td>1.604681</td>\n",
       "      <td>10.024861</td>\n",
       "      <td>3.091329</td>\n",
       "      <td>1.193325</td>\n",
       "      <td>1.590771</td>\n",
       "      <td>1.698906</td>\n",
       "      <td>5.615446</td>\n",
       "    </tr>\n",
       "    <tr>\n",
       "      <th>2518</th>\n",
       "      <td>1.712337</td>\n",
       "      <td>2.657316</td>\n",
       "      <td>3.156653</td>\n",
       "      <td>1.338358</td>\n",
       "      <td>1.699046</td>\n",
       "      <td>1.823256</td>\n",
       "      <td>0.928609</td>\n",
       "      <td>0.779368</td>\n",
       "      <td>0.786961</td>\n",
       "      <td>3.690680</td>\n",
       "      <td>...</td>\n",
       "      <td>1.690040</td>\n",
       "      <td>2.897643</td>\n",
       "      <td>1.675765</td>\n",
       "      <td>1.601148</td>\n",
       "      <td>9.985711</td>\n",
       "      <td>3.116539</td>\n",
       "      <td>1.206545</td>\n",
       "      <td>1.582794</td>\n",
       "      <td>1.671596</td>\n",
       "      <td>5.629849</td>\n",
       "    </tr>\n",
       "    <tr>\n",
       "      <th>2519</th>\n",
       "      <td>1.726126</td>\n",
       "      <td>2.673082</td>\n",
       "      <td>3.188936</td>\n",
       "      <td>1.361476</td>\n",
       "      <td>1.703967</td>\n",
       "      <td>1.843737</td>\n",
       "      <td>0.944741</td>\n",
       "      <td>0.754435</td>\n",
       "      <td>0.780358</td>\n",
       "      <td>3.768752</td>\n",
       "      <td>...</td>\n",
       "      <td>1.676734</td>\n",
       "      <td>2.853364</td>\n",
       "      <td>1.670052</td>\n",
       "      <td>1.580792</td>\n",
       "      <td>9.953784</td>\n",
       "      <td>3.068664</td>\n",
       "      <td>1.223637</td>\n",
       "      <td>1.577265</td>\n",
       "      <td>1.652313</td>\n",
       "      <td>5.578722</td>\n",
       "    </tr>\n",
       "    <tr>\n",
       "      <th>2520</th>\n",
       "      <td>1.719460</td>\n",
       "      <td>2.692881</td>\n",
       "      <td>3.219460</td>\n",
       "      <td>1.340194</td>\n",
       "      <td>1.677053</td>\n",
       "      <td>1.840722</td>\n",
       "      <td>0.968643</td>\n",
       "      <td>0.765095</td>\n",
       "      <td>0.779883</td>\n",
       "      <td>3.786465</td>\n",
       "      <td>...</td>\n",
       "      <td>1.672594</td>\n",
       "      <td>2.900236</td>\n",
       "      <td>1.690828</td>\n",
       "      <td>1.572591</td>\n",
       "      <td>9.958530</td>\n",
       "      <td>3.091940</td>\n",
       "      <td>1.225299</td>\n",
       "      <td>1.592140</td>\n",
       "      <td>1.632144</td>\n",
       "      <td>5.591313</td>\n",
       "    </tr>\n",
       "  </tbody>\n",
       "</table>\n",
       "<p>2521 rows × 500 columns</p>\n",
       "</div>"
      ],
      "text/plain": [
       "           0         1         2         3         4         5         6    \\\n",
       "0     1.000000  1.000000  1.000000  1.000000  1.000000  1.000000  1.000000   \n",
       "1     0.998252  1.001004  0.994813  1.002046  1.016229  1.003978  1.004023   \n",
       "2     1.011860  1.005433  1.017292  0.991139  1.033091  0.996321  0.999311   \n",
       "3     1.015987  1.019951  1.015334  0.990663  1.032790  0.997699  1.009909   \n",
       "4     1.013072  1.013537  1.008764  0.991143  1.040525  1.013336  1.025255   \n",
       "...        ...       ...       ...       ...       ...       ...       ...   \n",
       "2516  1.677661  2.667749  3.145121  1.314030  1.710889  1.928449  0.918229   \n",
       "2517  1.707037  2.653969  3.186808  1.301203  1.729525  1.897411  0.923071   \n",
       "2518  1.712337  2.657316  3.156653  1.338358  1.699046  1.823256  0.928609   \n",
       "2519  1.726126  2.673082  3.188936  1.361476  1.703967  1.843737  0.944741   \n",
       "2520  1.719460  2.692881  3.219460  1.340194  1.677053  1.840722  0.968643   \n",
       "\n",
       "           7         8         9    ...       490       491       492  \\\n",
       "0     1.000000  1.000000  1.000000  ...  1.000000  1.000000  1.000000   \n",
       "1     0.999106  1.001598  1.014310  ...  1.012192  0.993831  1.019614   \n",
       "2     0.996777  1.008131  1.005663  ...  1.031756  0.999744  1.013158   \n",
       "3     1.014778  0.998282  1.012621  ...  1.044495  0.992291  1.008338   \n",
       "4     1.017902  0.987840  1.003847  ...  1.031576  0.987961  1.021751   \n",
       "...        ...       ...       ...  ...       ...       ...       ...   \n",
       "2516  0.768049  0.805823  3.903261  ...  1.692913  2.884768  1.704608   \n",
       "2517  0.766753  0.803557  3.775307  ...  1.681619  2.894043  1.679550   \n",
       "2518  0.779368  0.786961  3.690680  ...  1.690040  2.897643  1.675765   \n",
       "2519  0.754435  0.780358  3.768752  ...  1.676734  2.853364  1.670052   \n",
       "2520  0.765095  0.779883  3.786465  ...  1.672594  2.900236  1.690828   \n",
       "\n",
       "           493        494       495       496       497       498       499  \n",
       "0     1.000000   1.000000  1.000000  1.000000  1.000000  1.000000  1.000000  \n",
       "1     1.028169   0.983701  0.993070  1.003618  0.997837  0.990172  0.995151  \n",
       "2     1.020319   0.970938  1.003187  0.999571  0.987034  0.959435  0.999733  \n",
       "3     1.019528   0.970655  0.998850  1.003317  0.972753  0.969443  0.997396  \n",
       "4     1.045291   0.974306  1.019184  0.997257  0.970566  0.971613  0.984354  \n",
       "...        ...        ...       ...       ...       ...       ...       ...  \n",
       "2516  1.600695   9.997211  3.093257  1.183856  1.589251  1.672981  5.562067  \n",
       "2517  1.604681  10.024861  3.091329  1.193325  1.590771  1.698906  5.615446  \n",
       "2518  1.601148   9.985711  3.116539  1.206545  1.582794  1.671596  5.629849  \n",
       "2519  1.580792   9.953784  3.068664  1.223637  1.577265  1.652313  5.578722  \n",
       "2520  1.572591   9.958530  3.091940  1.225299  1.592140  1.632144  5.591313  \n",
       "\n",
       "[2521 rows x 500 columns]"
      ]
     },
     "execution_count": 83,
     "metadata": {},
     "output_type": "execute_result"
    }
   ],
   "source": [
    "# Run the Monte Carlo simulation to forecast 10 years cumulative returns\n",
    "MC_fiveyear.calc_cumulative_return()"
   ]
  },
  {
   "cell_type": "code",
   "execution_count": 84,
   "metadata": {},
   "outputs": [
    {
     "data": {
      "image/png": "[encoded data removed]",
      "text/plain": [
       "<Figure size 432x288 with 1 Axes>"
      ]
     },
     "metadata": {
      "needs_background": "light"
     },
     "output_type": "display_data"
    }
   ],
   "source": [
    "# Visualize the 10-year Monte Carlo simulation by creating an\n",
    "# overlay line plot\n",
    "MC_sim_line_plot = MC_fiveyear.plot_simulation()\n",
    "MC_sim_line_plot.get_figure().savefig(\"MC_10year_sim_plot.png\", bbox_inches=\"tight\")"
   ]
  },
  {
   "cell_type": "code",
   "execution_count": 85,
   "metadata": {},
   "outputs": [
    {
     "data": {
      "image/png": "[encoded data removed]",
      "text/plain": [
       "<Figure size 432x288 with 1 Axes>"
      ]
     },
     "metadata": {
      "needs_background": "light"
     },
     "output_type": "display_data"
    }
   ],
   "source": [
    "# Plot probability distribution and confidence intervals\n",
    "MC_sim_dist_plot = MC_fiveyear.plot_distribution()\n",
    "\n",
    "# Save the plot for future use\n",
    "MC_sim_dist_plot.get_figure().savefig('MC_10year_dist_plot.png',bbox_inches='tight')"
   ]
  },
  {
   "cell_type": "code",
   "execution_count": 86,
   "metadata": {},
   "outputs": [
    {
     "name": "stdout",
     "output_type": "stream",
     "text": [
      "count           500.000000\n",
      "mean              2.564486\n",
      "std               1.631072\n",
      "min               0.295506\n",
      "25%               1.402833\n",
      "50%               2.168023\n",
      "75%               3.209343\n",
      "max              11.377614\n",
      "95% CI Lower      0.739781\n",
      "95% CI Upper      6.500568\n",
      "Name: 2520, dtype: float64\n"
     ]
    }
   ],
   "source": [
    "# Generate summary statistics from the 10-year Monte Carlo simulation results\n",
    "# Save the results as a variable\n",
    "MC_summary_statistics = MC_fiveyear.summarize_cumulative_return()\n",
    "\n",
    "# Print summary statistics Series\n",
    "print(MC_summary_statistics)"
   ]
  },
  {
   "cell_type": "markdown",
   "metadata": {},
   "source": [
    "### Answer the following questions:"
   ]
  },
  {
   "cell_type": "markdown",
   "metadata": {},
   "source": [
    "#### Question: Using the current value of only the stock and bond portion of the member's portfolio and the summary statistics that you generated from the new Monte Carlo simulation, what are the lower and upper bounds for the expected value of the portfolio (with the new weights) with a 95% confidence interval?"
   ]
  },
  {
   "cell_type": "code",
   "execution_count": null,
   "metadata": {},
   "outputs": [],
   "source": [
    "# Print the current balance of the stock and bond portion of the members portfolio\n",
    "print(total_stocks_bonds)"
   ]
  },
  {
   "cell_type": "code",
   "execution_count": 87,
   "metadata": {},
   "outputs": [
    {
     "name": "stdout",
     "output_type": "stream",
     "text": [
      "There is a 95% chance that an initial investment of $60689.5 in the portfolio over the next 30 years will end within in the range of $ 44896.94 and $ 394516.25.\n"
     ]
    }
   ],
   "source": [
    "# Use the lower and upper `95%` confidence intervals to calculate the range of the possible outcomes for the current stock/bond portfolio\n",
    "ci_lower_thirty_cumulative_return = MC_summary_statistics[8] * total_stocks_bonds\n",
    "ci_upper_thirty_cumulative_return = MC_summary_statistics[9] * total_stocks_bonds\n",
    "\n",
    "# Print the result of your calculations\n",
    "print(f\"There is a 95% chance that an initial investment of ${total_stocks_bonds} in the portfolio\"\n",
    "  f\" over the next 30 years will end within in the range of\"\n",
    "  f\" ${ci_lower_thirty_cumulative_return: .2f} and ${ci_upper_thirty_cumulative_return: .2f}.\")"
   ]
  },
  {
   "cell_type": "markdown",
   "metadata": {},
   "source": [
    "#### Question: Will weighting the portfolio more heavily to stocks allow the credit union members to retire after only 10 years?"
   ]
  },
  {
   "cell_type": "raw",
   "metadata": {},
   "source": [
    "**Answer** # Possible."
   ]
  },
  {
   "cell_type": "code",
   "execution_count": null,
   "metadata": {},
   "outputs": [],
   "source": []
  }
 ],
 "metadata": {
  "kernelspec": {
   "display_name": "dev",
   "language": "python",
   "name": "dev"
  },
  "language_info": {
   "codemirror_mode": {
    "name": "ipython",
    "version": 3
   },
   "file_extension": ".py",
   "mimetype": "text/x-python",
   "name": "python",
   "nbconvert_exporter": "python",
   "pygments_lexer": "ipython3",
   "version": "3.7.10"
  }
 },
 "nbformat": 4,
 "nbformat_minor": 4
}
